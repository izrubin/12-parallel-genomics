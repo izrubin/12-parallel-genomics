{
 "cells": [
  {
   "cell_type": "markdown",
   "metadata": {},
   "source": [
    "### Assignment: assemble an ipyrad example data set\n",
    "\n",
    "Follow the instructions here: http://ipyrad.readthedocs.io/API_user-guide.html to assemble a dataset using the ipyrad API. You will need to download the dataset as instructed below. This dataset is different from the one in the linked tutorial. Be sure to download the data into your scratch space, and to set the project directory for you ipyrad analysis to your scratch directory. You can use any of the datasets in the downloaded directory. Read the ipyrad docs if you have questions and/or hit up the gitter chatroom. \n",
    "\n",
    "** When finished copy this notebook to your assignments/ dir, push it, and make a pull request**. "
   ]
  },
  {
   "cell_type": "code",
   "execution_count": null,
   "metadata": {},
   "outputs": [],
   "source": [
    "# Note, none of this code is being executed as I cannot run it on my machine, due to issues with capacity\n",
    "\n",
    "import ipyrad as ip\n",
    "import ipyparallel as ipp"
   ]
  },
  {
   "cell_type": "markdown",
   "metadata": {},
   "source": [
    "### Download the data\n",
    "You will probably want to move the data to your scratch directory. You can run this code here to download it, or from a terminal. "
   ]
  },
  {
   "cell_type": "code",
   "execution_count": null,
   "metadata": {
    "scrolled": true
   },
   "outputs": [],
   "source": [
    "%%bash\n",
    "## The curl command needs a capital O, not a zero\n",
    "curl -LkO https://github.com/dereneaton/ipyrad/raw/master/tests/ipsimdata.tar.gz\n",
    "tar -xvzf ipsimdata.tar.gz"
   ]
  },
  {
   "cell_type": "code",
   "execution_count": null,
   "metadata": {},
   "outputs": [],
   "source": [
    "ls ipsimdata/"
   ]
  },
  {
   "cell_type": "markdown",
   "metadata": {},
   "source": [
    "### Connect to an ipcluster instance"
   ]
  },
  {
   "cell_type": "code",
   "execution_count": null,
   "metadata": {},
   "outputs": [],
   "source": [
    "# The first line of code below is executed in a separate terminal to start an ipcluster instance\n",
    "# ipcluster start --n=4\n",
    "\n",
    "%px import time, os\n",
    "\n",
    "ipyclient = ipp.Client()"
   ]
  },
  {
   "cell_type": "markdown",
   "metadata": {},
   "source": [
    "### Assembly the dataset from step 1 to step 7"
   ]
  },
  {
   "cell_type": "code",
   "execution_count": null,
   "metadata": {},
   "outputs": [],
   "source": [
    "ipsimdata = ip.Assembly(\"ipsimdata\")\n",
    "\n",
    "## setting/modifying parameters for this Assembly object\n",
    "ipsimdata.set_params('project_dir', \"pedicularis\")\n",
    "ipsimdata.set_params('sorted_fastq_path', \"./example_empirical_rad/*.gz\") # Path needs to be modified accordingly\n",
    "ipsimdata.set_params('filter_adapters', 2)\n",
    "ipsimdata.set_params('datatype', 'rad')\n",
    "\n",
    "## prints the parameters to the screen\n",
    "ipsimdata.get_params()\n",
    "\n",
    "\n",
    "# Running the first step (Before this step is run, ensure that the right folder path is called above)\n",
    "# This step loads in the data\n",
    "ipsimdata.run(\"1\", ipyclient=ipyclient, force=True)\n",
    "\n",
    "## print full stats summary\n",
    "print ipsimdata.stats\n",
    "\n",
    "## let's create a dictionary to hold the finished assemblies\n",
    "## Creating small for-loops as suggested by the ipyrad tutorial to run each step of the assembly process\n",
    "adict = {}\n",
    "\n",
    "## iterate over parameters settings creating a new named assembly\n",
    "for filter_setting in [1, 2]:\n",
    "    ## create a new name for the assembly and branch\n",
    "    newname = ipsimdata.name + \"_f{}\".format(filter_setting)\n",
    "    child1 = ipsimdata.branch(newname)\n",
    "    child1.set_params(\"filter_adapters\", filter_setting)\n",
    "    child1.run(\"2\")\n",
    "\n",
    "    ## iterate over clust thresholds\n",
    "    for clust_threshold in ['0.85', '0.90']:\n",
    "        newname = child1.name + \"_c{}\".format(clust_threshold[2:])\n",
    "        child2 = child1.branch(newname)\n",
    "        child2.set_params(\"clust_threshold\", clust_threshold)\n",
    "        child2.run(\"3456\")\n",
    "\n",
    "        ## iterate over min_sample coverage\n",
    "        for min_samples_locus in [4, 12]:\n",
    "            newname = child2.name + \"_m{}\".format(min_samples_locus)\n",
    "            child3 = child2.branch(newname)\n",
    "            child3.set_params(\"min_samples_locus\", min_samples_locus)\n",
    "            child3.run(\"7\")\n",
    "\n",
    "            ## store the complete assembly in the dictionary by its name\n",
    "            ## so it is easy for us to access and retrieve, since we wrote\n",
    "            ## over the variable name 'child' during the loop. You can do\n",
    "            ## this using dictionaries, lists, etc., or, as you'll see below,\n",
    "            ## we can use the 'load_json()' command to load a finished assembly\n",
    "            ## from its saved file object.\n",
    "            \n",
    "            adict[newname] = child3\n",
    "\n"
   ]
  },
  {
   "cell_type": "markdown",
   "metadata": {},
   "source": [
    "### Print the final assembly stats"
   ]
  },
  {
   "cell_type": "code",
   "execution_count": null,
   "metadata": {},
   "outputs": [],
   "source": [
    "## save assembly object (also auto-saves after every run() command)\n",
    "child3.save()\n",
    "\n",
    "## load assembly object\n",
    "child3 = ip.load_assembly(\"pedicularis/child3.json\")\n",
    "\n",
    "## write params file for use by the CLI\n",
    "child3.write_params()"
   ]
  },
  {
   "cell_type": "markdown",
   "metadata": {},
   "source": [
    "### Show the location of your assembled output files"
   ]
  },
  {
   "cell_type": "code",
   "execution_count": null,
   "metadata": {},
   "outputs": [],
   "source": [
    "child3.run(\"7\")"
   ]
  }
 ],
 "metadata": {
  "kernelspec": {
   "display_name": "Python 3",
   "language": "python",
   "name": "python3"
  },
  "language_info": {
   "codemirror_mode": {
    "name": "ipython",
    "version": 3
   },
   "file_extension": ".py",
   "mimetype": "text/x-python",
   "name": "python",
   "nbconvert_exporter": "python",
   "pygments_lexer": "ipython3",
   "version": "3.6.3"
  }
 },
 "nbformat": 4,
 "nbformat_minor": 2
}
