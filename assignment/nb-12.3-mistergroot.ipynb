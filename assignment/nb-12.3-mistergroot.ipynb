{
 "cells": [
  {
   "cell_type": "markdown",
   "metadata": {},
   "source": [
    "### Assignment: assemble an ipyrad example data set\n",
    "\n",
    "Follow the instructions here: http://ipyrad.readthedocs.io/API_user-guide.html to assemble a dataset using the ipyrad API. You will need to download the dataset as instructed below. This dataset is different from the one in the linked tutorial. Be sure to download the data into your scratch space, and to set the project directory for you ipyrad analysis to your scratch directory. You can use any of the datasets in the downloaded directory. Read the ipyrad docs if you have questions and/or hit up the gitter chatroom. \n",
    "\n",
    "** When finished copy this notebook to your assignments/ dir, push it, and make a pull request**. "
   ]
  },
  {
   "cell_type": "code",
   "execution_count": 1,
   "metadata": {},
   "outputs": [
    {
     "name": "stderr",
     "output_type": "stream",
     "text": [
      "/home/nicolas/miniconda3/envs/py27/lib/python2.7/site-packages/h5py/__init__.py:36: FutureWarning: Conversion of the second argument of issubdtype from `float` to `np.floating` is deprecated. In future, it will be treated as `np.float64 == np.dtype(float).type`.\n",
      "  from ._conv import register_converters as _register_converters\n"
     ]
    }
   ],
   "source": [
    "import ipyrad as ip\n",
    "import ipyparallel as ipp"
   ]
  },
  {
   "cell_type": "markdown",
   "metadata": {},
   "source": [
    "### Download the data\n",
    "You will probably want to move the data to your scratch directory. You can run this code here to download it, or from a terminal. "
   ]
  },
  {
   "cell_type": "code",
   "execution_count": 39,
   "metadata": {
    "scrolled": true
   },
   "outputs": [
    {
     "name": "stdout",
     "output_type": "stream",
     "text": [
      "./ipsimdata/\n",
      "./ipsimdata/pairgbs_example_R2_.fastq.gz\n",
      "./ipsimdata/pairgbs_wmerge_example_barcodes.txt\n",
      "./ipsimdata/rad_example_genome.fa\n",
      "./ipsimdata/pairddrad_example_genome.fa\n",
      "./ipsimdata/pairgbs_example_R1_.fastq.gz\n",
      "./ipsimdata/pairgbs_wmerge_example_R2_.fastq.gz\n",
      "./ipsimdata/rad_example_genome.fa.fai\n",
      "./ipsimdata/pairddrad_example_R2_.fastq.gz\n",
      "./ipsimdata/pairddrad_example_genome.fa.sma\n",
      "./ipsimdata/pairddrad_example_genome.fa.fai\n",
      "./ipsimdata/pairgbs_wmerge_example_genome.fa\n",
      "./ipsimdata/pairddrad_wmerge_example_genome.fa\n",
      "./ipsimdata/pairddrad_example_genome.fa.smi\n",
      "./ipsimdata/pairgbs_wmerge_example_R1_.fastq.gz\n",
      "./ipsimdata/rad_example_genome.fa.smi\n",
      "./ipsimdata/gbs_example_barcodes.txt\n",
      "./ipsimdata/pairgbs_example_barcodes.txt\n",
      "./ipsimdata/pairddrad_example_R1_.fastq.gz\n",
      "./ipsimdata/pairddrad_wmerge_example_barcodes.txt\n",
      "./ipsimdata/rad_example_barcodes.txt\n",
      "./ipsimdata/pairddrad_wmerge_example_R1_.fastq.gz\n",
      "./ipsimdata/pairddrad_wmerge_example_R2_.fastq.gz\n",
      "./ipsimdata/gbs_example_R1_.fastq.gz\n",
      "./ipsimdata/pairddrad_example_barcodes.txt\n",
      "./ipsimdata/rad_example_genome.fa.sma\n",
      "./ipsimdata/rad_example_R1_.fastq.gz\n",
      "./ipsimdata/gbs_example_genome.fa\n"
     ]
    },
    {
     "name": "stderr",
     "output_type": "stream",
     "text": [
      "  % Total    % Received % Xferd  Average Speed   Time    Time     Time  Current\n",
      "                                 Dload  Upload   Total   Spent    Left  Speed\n",
      "\r",
      "  0     0    0     0    0     0      0      0 --:--:-- --:--:-- --:--:--     0\r",
      "  0     0    0     0    0     0      0      0 --:--:-- --:--:-- --:--:--     0\r",
      "100   147  100   147    0     0    700      0 --:--:-- --:--:-- --:--:--   696\n",
      "\r",
      " 75 11.8M   75 9186k    0     0  8107k      0  0:00:01  0:00:01 --:--:-- 8107k\r",
      "100 11.8M  100 11.8M    0     0  9721k      0  0:00:01  0:00:01 --:--:-- 25.0M\n"
     ]
    }
   ],
   "source": [
    "%%bash\n",
    "## The curl command needs a capital O, not a zero\n",
    "curl -LkO https://github.com/dereneaton/ipyrad/raw/master/tests/ipsimdata.tar.gz\n",
    "tar -xvzf ipsimdata.tar.gz"
   ]
  },
  {
   "cell_type": "markdown",
   "metadata": {},
   "source": [
    "#### I sorted datasets into folders manually in file manager:"
   ]
  },
  {
   "cell_type": "code",
   "execution_count": 13,
   "metadata": {},
   "outputs": [
    {
     "name": "stdout",
     "output_type": "stream",
     "text": [
      "\u001b[0m\u001b[01;34mgbs\u001b[0m/  \u001b[01;34mpairddrad\u001b[0m/  \u001b[01;34mpairddradwmerge\u001b[0m/  \u001b[01;34mpairgbs\u001b[0m/  \u001b[01;34mpairgbswmerge\u001b[0m/  \u001b[01;34mrad\u001b[0m/\r\n"
     ]
    }
   ],
   "source": [
    "ls ipsimdata/"
   ]
  },
  {
   "cell_type": "markdown",
   "metadata": {},
   "source": [
    "### Connect to an ipcluster instance"
   ]
  },
  {
   "cell_type": "code",
   "execution_count": 15,
   "metadata": {},
   "outputs": [
    {
     "data": {
      "text/plain": [
       "[0, 1, 2, 3]"
      ]
     },
     "execution_count": 15,
     "metadata": {},
     "output_type": "execute_result"
    }
   ],
   "source": [
    "## I ran ipyrad on my laptop so I assumed I was supposed to change the ipcluster to 4 since my laptop is quad-core\n",
    "ipyclient = ipp.Client()\n",
    "ipyclient.ids"
   ]
  },
  {
   "cell_type": "markdown",
   "metadata": {},
   "source": [
    "### Assembly the dataset from step 1 to step 7"
   ]
  },
  {
   "cell_type": "code",
   "execution_count": 16,
   "metadata": {},
   "outputs": [
    {
     "name": "stdout",
     "output_type": "stream",
     "text": [
      "New Assembly: gbs\n",
      "0   assembly_name               gbs                                          \n",
      "1   project_dir                 ./outfiles                                   \n",
      "2   raw_fastq_path              ./ipsimdata/gbs/*.fastq.gz                   \n",
      "3   barcodes_path               ./ipsimdata/gbs/gbs_example_barcodes.txt     \n",
      "4   sorted_fastq_path                                                        \n",
      "5   assembly_method             reference                                    \n",
      "6   reference_sequence          ./ipsimdata/gbs/gbs_example_genome.fa        \n",
      "7   datatype                    gbs                                          \n",
      "8   restriction_overhang        ('TGCAG', '')                                \n",
      "9   max_low_qual_bases          5                                            \n",
      "10  phred_Qscore_offset         33                                           \n",
      "11  mindepth_statistical        6                                            \n",
      "12  mindepth_majrule            6                                            \n",
      "13  maxdepth                    10000                                        \n",
      "14  clust_threshold             0.85                                         \n",
      "15  max_barcode_mismatch        0                                            \n",
      "16  filter_adapters             0                                            \n",
      "17  filter_min_trim_len         35                                           \n",
      "18  max_alleles_consens         2                                            \n",
      "19  max_Ns_consens              (5, 5)                                       \n",
      "20  max_Hs_consens              (8, 8)                                       \n",
      "21  min_samples_locus           4                                            \n",
      "22  max_SNPs_locus              (20, 20)                                     \n",
      "23  max_Indels_locus            (8, 8)                                       \n",
      "24  max_shared_Hs_locus         0.5                                          \n",
      "25  trim_reads                  (0, 0, 0, 0)                                 \n",
      "26  trim_loci                   (0, 0, 0, 0)                                 \n",
      "27  output_formats              ['p', 's', 'v']                              \n",
      "28  pop_assign_file                                                          \n"
     ]
    }
   ],
   "source": [
    "## GBS\n",
    "gbs = ip.Assembly(\"gbs\")\n",
    "\n",
    "## set parameters\n",
    "gbs.set_params(\"project_dir\", \"outfiles\")\n",
    "gbs.set_params(\"raw_fastq_path\", \"ipsimdata/gbs/*.fastq.gz\")\n",
    "gbs.set_params(\"datatype\", \"gbs\")\n",
    "gbs.set_params(\"assembly_method\", \"reference\")\n",
    "gbs.set_params(\"reference_sequence\", \"ipsimdata/gbs/gbs_example_genome.fa\")\n",
    "gbs.set_params(\"barcodes_path\", \"ipsimdata/gbs/gbs_example_barcodes.txt\")\n",
    "\n",
    "## see/print all parameters\n",
    "gbs.get_params()"
   ]
  },
  {
   "cell_type": "code",
   "execution_count": 17,
   "metadata": {},
   "outputs": [
    {
     "name": "stdout",
     "output_type": "stream",
     "text": [
      "host compute node: [4 cores] on nickpic2\n",
      "Assembly: gbs\n",
      "[force] overwriting fastq files previously created by ipyrad.\n",
      "This _does not_ affect your original/raw data files.\n",
      "[####################] 100%  sorting reads         | 0:00:03 | s1 | \n",
      "[####################] 100%  writing/compressing   | 0:00:01 | s1 | \n",
      "[####################] 100%  processing reads      | 0:00:02 | s2 | \n",
      "[####################] 100%  indexing reference    | 0:00:01 | s3 | \n",
      "[####################] 100%  dereplicating         | 0:00:00 | s3 | \n",
      "[####################] 100%  mapping               | 0:00:00 | s3 | \n",
      "[####################] 100%  fetch mapped reads    | 0:00:00 | s3 | \n",
      "[####################] 100%  chunking              | 0:00:00 | s3 | \n",
      "[####################] 100%  aligning              | 0:00:04 | s3 | \n",
      "[####################] 100%  concatenating         | 0:00:00 | s3 | \n",
      "[####################] 100%  inferring [H, E]      | 0:00:01 | s4 | \n",
      "[####################] 100%  calculating depths    | 0:00:00 | s5 | \n",
      "[####################] 100%  chunking clusters     | 0:00:00 | s5 | \n",
      "[####################] 100%  consens calling       | 0:00:05 | s5 | \n",
      "[####################] 100%  concat/shuffle input  | 0:00:00 | s6 | \n",
      "[####################] 100%  clustering across     | 0:00:01 | s6 | \n",
      "[####################] 100%  building clusters     | 0:00:00 | s6 | \n",
      "[####################] 100%  aligning clusters     | 0:00:01 | s6 | \n",
      "[####################] 100%  database indels       | 0:00:00 | s6 | \n",
      "[####################] 100%  indexing clusters     | 0:00:01 | s6 | \n",
      "[####################] 100%  building database     | 0:00:00 | s6 | \n",
      "[####################] 100%  filtering loci        | 0:00:03 | s7 | \n",
      "[####################] 100%  building loci/stats   | 0:00:00 | s7 | \n",
      "[####################] 100%  building vcf file     | 0:00:01 | s7 | \n",
      "[####################] 100%  writing vcf file      | 0:00:00 | s7 | \n",
      "[####################] 100%  building arrays       | 0:00:00 | s7 | \n",
      "[####################] 100%  writing outfiles      | 0:00:00 | s7 | \n",
      "Outfiles written to: ~/PDSB/12-parallel-genomics/notebooks/outfiles/gbs_outfiles\n",
      "\n"
     ]
    }
   ],
   "source": [
    "## running it step by step for the first dataset\n",
    "gbs.run(\"1234567\", show_cluster=True, force=True)"
   ]
  },
  {
   "cell_type": "code",
   "execution_count": 18,
   "metadata": {},
   "outputs": [
    {
     "name": "stdout",
     "output_type": "stream",
     "text": [
      "New Assembly: pairddrad\n",
      "0   assembly_name               pairddrad                                    \n",
      "1   project_dir                 ./outfiles                                   \n",
      "2   raw_fastq_path              ./ipsimdata/pairddrad/*.fastq.gz             \n",
      "3   barcodes_path               ./ipsimdata/pairddrad/pairddrad_example_barcodes.txt\n",
      "4   sorted_fastq_path                                                        \n",
      "5   assembly_method             reference                                    \n",
      "6   reference_sequence          ./ipsimdata/pairddrad/pairddrad_example_genome.fa\n",
      "7   datatype                    pairddrad                                    \n",
      "8   restriction_overhang        ('TGCAG', '')                                \n",
      "9   max_low_qual_bases          5                                            \n",
      "10  phred_Qscore_offset         33                                           \n",
      "11  mindepth_statistical        6                                            \n",
      "12  mindepth_majrule            6                                            \n",
      "13  maxdepth                    10000                                        \n",
      "14  clust_threshold             0.85                                         \n",
      "15  max_barcode_mismatch        0                                            \n",
      "16  filter_adapters             0                                            \n",
      "17  filter_min_trim_len         35                                           \n",
      "18  max_alleles_consens         2                                            \n",
      "19  max_Ns_consens              (5, 5)                                       \n",
      "20  max_Hs_consens              (8, 8)                                       \n",
      "21  min_samples_locus           4                                            \n",
      "22  max_SNPs_locus              (20, 20)                                     \n",
      "23  max_Indels_locus            (8, 8)                                       \n",
      "24  max_shared_Hs_locus         0.5                                          \n",
      "25  trim_reads                  (0, 0, 0, 0)                                 \n",
      "26  trim_loci                   (0, 0, 0, 0)                                 \n",
      "27  output_formats              ['p', 's', 'v']                              \n",
      "28  pop_assign_file                                                          \n"
     ]
    }
   ],
   "source": [
    "## pairddrad\n",
    "pairddrad = ip.Assembly(\"pairddrad\")\n",
    "\n",
    "## set parameters\n",
    "pairddrad.set_params(\"project_dir\", \"outfiles\")\n",
    "pairddrad.set_params(\"raw_fastq_path\", \"ipsimdata/pairddrad/*.fastq.gz\")\n",
    "pairddrad.set_params(\"datatype\", \"pairddrad\")\n",
    "pairddrad.set_params(\"assembly_method\", \"reference\")\n",
    "pairddrad.set_params(\"reference_sequence\", \"ipsimdata/pairddrad/pairddrad_example_genome.fa\")\n",
    "pairddrad.set_params(\"barcodes_path\", \"ipsimdata/pairddrad/pairddrad_example_barcodes.txt\")\n",
    "\n",
    "## see/print all parameters\n",
    "pairddrad.get_params()"
   ]
  },
  {
   "cell_type": "code",
   "execution_count": 19,
   "metadata": {},
   "outputs": [
    {
     "name": "stdout",
     "output_type": "stream",
     "text": [
      "host compute node: [4 cores] on nickpic2\n",
      "Assembly: pairddrad\n",
      "[force] overwriting fastq files previously created by ipyrad.\n",
      "This _does not_ affect your original/raw data files.\n",
      "[####################] 100%  sorting reads         | 0:00:03 | s1 | \n",
      "[####################] 100%  writing/compressing   | 0:00:00 | s1 | \n",
      "[####################] 100%  processing reads      | 0:00:04 | s2 | \n",
      "[####################] 100%  indexing reference    | 0:00:01 | s3 | \n",
      "[####################] 100%  dereplicating         | 0:00:01 | s3 | \n",
      "[####################] 100%  mapping               | 0:00:02 | s3 | \n",
      "[####################] 100%  fetch mapped reads    | 0:00:00 | s3 | \n",
      "[####################] 100%  chunking              | 0:00:00 | s3 | \n",
      "[####################] 100%  aligning              | 0:00:13 | s3 | \n",
      "[####################] 100%  concatenating         | 0:00:00 | s3 | \n",
      "[####################] 100%  inferring [H, E]      | 0:00:01 | s4 | \n",
      "[####################] 100%  calculating depths    | 0:00:00 | s5 | \n",
      "[####################] 100%  chunking clusters     | 0:00:00 | s5 | \n",
      "[####################] 100%  consens calling       | 0:00:08 | s5 | \n",
      "[####################] 100%  concat/shuffle input  | 0:00:00 | s6 | \n",
      "[####################] 100%  clustering across     | 0:00:01 | s6 | \n",
      "[####################] 100%  building clusters     | 0:00:00 | s6 | \n",
      "[####################] 100%  aligning clusters     | 0:00:03 | s6 | \n",
      "[####################] 100%  database indels       | 0:00:00 | s6 | \n",
      "[####################] 100%  indexing clusters     | 0:00:00 | s6 | \n",
      "[####################] 100%  building database     | 0:00:00 | s6 | \n",
      "[####################] 100%  filtering loci        | 0:00:00 | s7 | \n",
      "[####################] 100%  building loci/stats   | 0:00:00 | s7 | \n",
      "[####################] 100%  building vcf file     | 0:00:00 | s7 | \n",
      "[####################] 100%  writing vcf file      | 0:00:00 | s7 | \n",
      "[####################] 100%  building arrays       | 0:00:00 | s7 | \n",
      "[####################] 100%  writing outfiles      | 0:00:00 | s7 | \n",
      "Outfiles written to: ~/PDSB/12-parallel-genomics/notebooks/outfiles/pairddrad_outfiles\n",
      "\n"
     ]
    }
   ],
   "source": [
    "pairddrad.run(\"1234567\", show_cluster=True, force=True)"
   ]
  },
  {
   "cell_type": "code",
   "execution_count": 20,
   "metadata": {
    "scrolled": true
   },
   "outputs": [
    {
     "name": "stdout",
     "output_type": "stream",
     "text": [
      "New Assembly: pairddradwmerge\n",
      "0   assembly_name               pairddradwmerge                              \n",
      "1   project_dir                 ./outfiles                                   \n",
      "2   raw_fastq_path              ./ipsimdata/pairddradwmerge/*.fastq.gz       \n",
      "3   barcodes_path               ./ipsimdata/pairddradwmerge/pairddrad_wmerge_example_barcodes.txt\n",
      "4   sorted_fastq_path                                                        \n",
      "5   assembly_method             reference                                    \n",
      "6   reference_sequence          ./ipsimdata/pairddradwmerge/pairddrad_wmerge_example_genome.fa\n",
      "7   datatype                    pairddrad                                    \n",
      "8   restriction_overhang        ('TGCAG', '')                                \n",
      "9   max_low_qual_bases          5                                            \n",
      "10  phred_Qscore_offset         33                                           \n",
      "11  mindepth_statistical        6                                            \n",
      "12  mindepth_majrule            6                                            \n",
      "13  maxdepth                    10000                                        \n",
      "14  clust_threshold             0.85                                         \n",
      "15  max_barcode_mismatch        0                                            \n",
      "16  filter_adapters             0                                            \n",
      "17  filter_min_trim_len         35                                           \n",
      "18  max_alleles_consens         2                                            \n",
      "19  max_Ns_consens              (5, 5)                                       \n",
      "20  max_Hs_consens              (8, 8)                                       \n",
      "21  min_samples_locus           4                                            \n",
      "22  max_SNPs_locus              (20, 20)                                     \n",
      "23  max_Indels_locus            (8, 8)                                       \n",
      "24  max_shared_Hs_locus         0.5                                          \n",
      "25  trim_reads                  (0, 0, 0, 0)                                 \n",
      "26  trim_loci                   (0, 0, 0, 0)                                 \n",
      "27  output_formats              ['p', 's', 'v']                              \n",
      "28  pop_assign_file                                                          \n"
     ]
    }
   ],
   "source": [
    "## pairddradwmerge\n",
    "pairddradwmerge = ip.Assembly(\"pairddradwmerge\")\n",
    "\n",
    "## set parameters\n",
    "pairddradwmerge.set_params(\"project_dir\", \"outfiles\")\n",
    "pairddradwmerge.set_params(\"raw_fastq_path\", \"ipsimdata/pairddradwmerge/*.fastq.gz\")\n",
    "pairddradwmerge.set_params(\"datatype\", \"pairddrad\")\n",
    "pairddradwmerge.set_params(\"assembly_method\", \"reference\")\n",
    "pairddradwmerge.set_params(\"reference_sequence\", \"ipsimdata/pairddradwmerge/pairddrad_wmerge_example_genome.fa\")\n",
    "pairddradwmerge.set_params(\"barcodes_path\", \"ipsimdata/pairddradwmerge/pairddrad_wmerge_example_barcodes.txt\")\n",
    "\n",
    "## see/print all parameters\n",
    "pairddradwmerge.get_params()"
   ]
  },
  {
   "cell_type": "code",
   "execution_count": 21,
   "metadata": {},
   "outputs": [
    {
     "name": "stdout",
     "output_type": "stream",
     "text": [
      "host compute node: [4 cores] on nickpic2\n",
      "Assembly: pairddradwmerge\n",
      "[force] overwriting fastq files previously created by ipyrad.\n",
      "This _does not_ affect your original/raw data files.\n",
      "[####################] 100%  sorting reads         | 0:00:03 | s1 | \n",
      "[####################] 100%  writing/compressing   | 0:00:00 | s1 | \n",
      "[####################] 100%  processing reads      | 0:00:04 | s2 | \n",
      "[####################] 100%  indexing reference    | 0:00:01 | s3 | \n",
      "[####################] 100%  dereplicating         | 0:00:01 | s3 | \n",
      "[####################] 100%  mapping               | 0:00:02 | s3 | \n",
      "[####################] 100%  fetch mapped reads    | 0:00:00 | s3 | \n",
      "[####################] 100%  chunking              | 0:00:00 | s3 | \n",
      "[####################] 100%  aligning              | 0:00:13 | s3 | \n",
      "[####################] 100%  concatenating         | 0:00:00 | s3 | \n",
      "[####################] 100%  inferring [H, E]      | 0:00:01 | s4 | \n",
      "[####################] 100%  calculating depths    | 0:00:00 | s5 | \n",
      "[####################] 100%  chunking clusters     | 0:00:00 | s5 | \n",
      "[####################] 100%  consens calling       | 0:00:08 | s5 | \n",
      "[####################] 100%  concat/shuffle input  | 0:00:00 | s6 | \n",
      "[####################] 100%  clustering across     | 0:00:01 | s6 | \n",
      "[####################] 100%  building clusters     | 0:00:00 | s6 | \n",
      "[####################] 100%  aligning clusters     | 0:00:03 | s6 | \n",
      "[####################] 100%  database indels       | 0:00:00 | s6 | \n",
      "[####################] 100%  indexing clusters     | 0:00:00 | s6 | \n",
      "[####################] 100%  building database     | 0:00:00 | s6 | \n",
      "[####################] 100%  filtering loci        | 0:00:00 | s7 | \n",
      "[####################] 100%  building loci/stats   | 0:00:00 | s7 | \n",
      "[####################] 100%  building vcf file     | 0:00:00 | s7 | \n",
      "[####################] 100%  writing vcf file      | 0:00:00 | s7 | \n",
      "[####################] 100%  building arrays       | 0:00:00 | s7 | \n",
      "[####################] 100%  writing outfiles      | 0:00:00 | s7 | \n",
      "Outfiles written to: ~/PDSB/12-parallel-genomics/notebooks/outfiles/pairddradwmerge_outfiles\n",
      "\n"
     ]
    }
   ],
   "source": [
    "pairddradwmerge.run(\"1234567\", show_cluster=True, force=True)"
   ]
  },
  {
   "cell_type": "code",
   "execution_count": 22,
   "metadata": {},
   "outputs": [
    {
     "name": "stdout",
     "output_type": "stream",
     "text": [
      "New Assembly: pairgbs\n",
      "0   assembly_name               pairgbs                                      \n",
      "1   project_dir                 ./outfiles                                   \n",
      "2   raw_fastq_path              ./ipsimdata/pairgbs/*.fastq.gz               \n",
      "3   barcodes_path               ./ipsimdata/pairgbs/pairgbs_example_barcodes.txt\n",
      "4   sorted_fastq_path                                                        \n",
      "5   assembly_method             denovo                                       \n",
      "6   reference_sequence                                                       \n",
      "7   datatype                    pairgbs                                      \n",
      "8   restriction_overhang        ('TGCAG', '')                                \n",
      "9   max_low_qual_bases          5                                            \n",
      "10  phred_Qscore_offset         33                                           \n",
      "11  mindepth_statistical        6                                            \n",
      "12  mindepth_majrule            6                                            \n",
      "13  maxdepth                    10000                                        \n",
      "14  clust_threshold             0.85                                         \n",
      "15  max_barcode_mismatch        0                                            \n",
      "16  filter_adapters             0                                            \n",
      "17  filter_min_trim_len         35                                           \n",
      "18  max_alleles_consens         2                                            \n",
      "19  max_Ns_consens              (5, 5)                                       \n",
      "20  max_Hs_consens              (8, 8)                                       \n",
      "21  min_samples_locus           4                                            \n",
      "22  max_SNPs_locus              (20, 20)                                     \n",
      "23  max_Indels_locus            (8, 8)                                       \n",
      "24  max_shared_Hs_locus         0.5                                          \n",
      "25  trim_reads                  (0, 0, 0, 0)                                 \n",
      "26  trim_loci                   (0, 0, 0, 0)                                 \n",
      "27  output_formats              ['p', 's', 'v']                              \n",
      "28  pop_assign_file                                                          \n"
     ]
    }
   ],
   "source": [
    "## pairgbs\n",
    "pairgbs = ip.Assembly(\"pairgbs\")\n",
    "\n",
    "## set parameters\n",
    "pairgbs.set_params(\"project_dir\", \"outfiles\")\n",
    "pairgbs.set_params(\"raw_fastq_path\", \"ipsimdata/pairgbs/*.fastq.gz\")\n",
    "pairgbs.set_params(\"datatype\", \"pairgbs\")\n",
    "pairgbs.set_params(\"assembly_method\", \"denovo\")\n",
    "pairgbs.set_params(\"barcodes_path\", \"ipsimdata/pairgbs/pairgbs_example_barcodes.txt\")\n",
    "\n",
    "## see/print all parameters\n",
    "pairgbs.get_params()"
   ]
  },
  {
   "cell_type": "code",
   "execution_count": 23,
   "metadata": {},
   "outputs": [
    {
     "name": "stdout",
     "output_type": "stream",
     "text": [
      "host compute node: [4 cores] on nickpic2\n",
      "Assembly: pairgbs\n",
      "[force] overwriting fastq files previously created by ipyrad.\n",
      "This _does not_ affect your original/raw data files.\n",
      "[####################] 100%  sorting reads         | 0:00:03 | s1 | \n",
      "[####################] 100%  writing/compressing   | 0:00:00 | s1 | \n",
      "[####################] 100%  processing reads      | 0:00:04 | s2 | \n",
      "[####################] 100%  dereplicating         | 0:00:01 | s3 | \n",
      "[####################] 100%  clustering            | 0:00:04 | s3 | \n",
      "[####################] 100%  building clusters     | 0:00:00 | s3 | \n",
      "[####################] 100%  chunking              | 0:00:00 | s3 | \n",
      "[####################] 100%  aligning              | 0:00:26 | s3 | \n",
      "[####################] 100%  concatenating         | 0:00:00 | s3 | \n",
      "[####################] 100%  inferring [H, E]      | 0:00:03 | s4 | \n",
      "[####################] 100%  calculating depths    | 0:00:00 | s5 | \n",
      "[####################] 100%  chunking clusters     | 0:00:00 | s5 | \n",
      "[####################] 100%  consens calling       | 0:00:15 | s5 | \n",
      "[####################] 100%  concat/shuffle input  | 0:00:00 | s6 | \n",
      "[####################] 100%  clustering across     | 0:00:01 | s6 | \n",
      "[####################] 100%  building clusters     | 0:00:00 | s6 | \n",
      "[####################] 100%  aligning clusters     | 0:00:07 | s6 | \n",
      "[####################] 100%  database indels       | 0:00:00 | s6 | \n",
      "[####################] 100%  indexing clusters     | 0:00:00 | s6 | \n",
      "[####################] 100%  building database     | 0:00:00 | s6 | \n",
      "[####################] 100%  filtering loci        | 0:00:00 | s7 | \n",
      "[####################] 100%  building loci/stats   | 0:00:00 | s7 | \n",
      "[####################] 100%  building vcf file     | 0:00:01 | s7 | \n",
      "[####################] 100%  writing vcf file      | 0:00:00 | s7 | \n",
      "[####################] 100%  building arrays       | 0:00:00 | s7 | \n",
      "[####################] 100%  writing outfiles      | 0:00:00 | s7 | \n",
      "Outfiles written to: ~/PDSB/12-parallel-genomics/notebooks/outfiles/pairgbs_outfiles\n",
      "\n"
     ]
    }
   ],
   "source": [
    "pairgbs.run(\"1234567\", show_cluster=True, force=True)"
   ]
  },
  {
   "cell_type": "code",
   "execution_count": 24,
   "metadata": {},
   "outputs": [
    {
     "name": "stdout",
     "output_type": "stream",
     "text": [
      "New Assembly: pairgbswmerge\n",
      "0   assembly_name               pairgbswmerge                                \n",
      "1   project_dir                 ./outfiles                                   \n",
      "2   raw_fastq_path              ./ipsimdata/pairgbswmerge/*.fastq.gz         \n",
      "3   barcodes_path               ./ipsimdata/pairgbswmerge/pairgbs_wmerge_example_barcodes.txt\n",
      "4   sorted_fastq_path                                                        \n",
      "5   assembly_method             reference                                    \n",
      "6   reference_sequence          ./ipsimdata/pairgbswmerge/pairgbs_wmerge_example_genome.fa\n",
      "7   datatype                    pairgbs                                      \n",
      "8   restriction_overhang        ('TGCAG', '')                                \n",
      "9   max_low_qual_bases          5                                            \n",
      "10  phred_Qscore_offset         33                                           \n",
      "11  mindepth_statistical        6                                            \n",
      "12  mindepth_majrule            6                                            \n",
      "13  maxdepth                    10000                                        \n",
      "14  clust_threshold             0.85                                         \n",
      "15  max_barcode_mismatch        0                                            \n",
      "16  filter_adapters             0                                            \n",
      "17  filter_min_trim_len         35                                           \n",
      "18  max_alleles_consens         2                                            \n",
      "19  max_Ns_consens              (5, 5)                                       \n",
      "20  max_Hs_consens              (8, 8)                                       \n",
      "21  min_samples_locus           4                                            \n",
      "22  max_SNPs_locus              (20, 20)                                     \n",
      "23  max_Indels_locus            (8, 8)                                       \n",
      "24  max_shared_Hs_locus         0.5                                          \n",
      "25  trim_reads                  (0, 0, 0, 0)                                 \n",
      "26  trim_loci                   (0, 0, 0, 0)                                 \n",
      "27  output_formats              ['p', 's', 'v']                              \n",
      "28  pop_assign_file                                                          \n"
     ]
    }
   ],
   "source": [
    "## pairgbswmerge\n",
    "pairgbswmerge = ip.Assembly(\"pairgbswmerge\")\n",
    "\n",
    "## set parameters\n",
    "pairgbswmerge.set_params(\"project_dir\", \"outfiles\")\n",
    "pairgbswmerge.set_params(\"raw_fastq_path\", \"ipsimdata/pairgbswmerge/*.fastq.gz\")\n",
    "pairgbswmerge.set_params(\"datatype\", \"pairgbs\")\n",
    "pairgbswmerge.set_params(\"assembly_method\", \"reference\")\n",
    "pairgbswmerge.set_params(\"reference_sequence\", \"ipsimdata/pairgbswmerge/pairgbs_wmerge_example_genome.fa\")\n",
    "pairgbswmerge.set_params(\"barcodes_path\", \"ipsimdata/pairgbswmerge/pairgbs_wmerge_example_barcodes.txt\")\n",
    "\n",
    "## see/print all parameters\n",
    "pairgbswmerge.get_params()"
   ]
  },
  {
   "cell_type": "code",
   "execution_count": 25,
   "metadata": {},
   "outputs": [
    {
     "name": "stdout",
     "output_type": "stream",
     "text": [
      "host compute node: [4 cores] on nickpic2\n",
      "Assembly: pairgbswmerge\n",
      "[force] overwriting fastq files previously created by ipyrad.\n",
      "This _does not_ affect your original/raw data files.\n",
      "[####################] 100%  sorting reads         | 0:00:03 | s1 | \n",
      "[####################] 100%  writing/compressing   | 0:00:00 | s1 | \n",
      "[####################] 100%  processing reads      | 0:00:04 | s2 | \n",
      "[####################] 100%  indexing reference    | 0:00:01 | s3 | \n",
      "[####################] 100%  dereplicating         | 0:00:01 | s3 | \n",
      "[####################] 100%  mapping               | 0:00:02 | s3 | \n",
      "[####################] 100%  fetch mapped reads    | 0:00:00 | s3 | \n",
      "[####################] 100%  chunking              | 0:00:00 | s3 | \n",
      "[####################] 100%  aligning              | 0:00:13 | s3 | \n",
      "[####################] 100%  concatenating         | 0:00:00 | s3 | \n",
      "[####################] 100%  inferring [H, E]      | 0:00:01 | s4 | \n",
      "[####################] 100%  calculating depths    | 0:00:00 | s5 | \n",
      "[####################] 100%  chunking clusters     | 0:00:00 | s5 | \n",
      "[####################] 100%  consens calling       | 0:00:08 | s5 | \n",
      "[####################] 100%  concat/shuffle input  | 0:00:00 | s6 | \n",
      "[####################] 100%  clustering across     | 0:00:01 | s6 | \n",
      "[####################] 100%  building clusters     | 0:00:00 | s6 | \n",
      "[####################] 100%  aligning clusters     | 0:00:03 | s6 | \n",
      "[####################] 100%  database indels       | 0:00:00 | s6 | \n",
      "[####################] 100%  indexing clusters     | 0:00:00 | s6 | \n",
      "[####################] 100%  building database     | 0:00:00 | s6 | \n",
      "[####################] 100%  filtering loci        | 0:00:00 | s7 | \n",
      "[####################] 100%  building loci/stats   | 0:00:00 | s7 | \n",
      "[####################] 100%  building vcf file     | 0:00:00 | s7 | \n",
      "[####################] 100%  writing vcf file      | 0:00:00 | s7 | \n",
      "[####################] 100%  building arrays       | 0:00:00 | s7 | \n",
      "[####################] 100%  writing outfiles      | 0:00:00 | s7 | \n",
      "Outfiles written to: ~/PDSB/12-parallel-genomics/notebooks/outfiles/pairgbswmerge_outfiles\n",
      "\n"
     ]
    }
   ],
   "source": [
    "pairgbswmerge.run(\"1234567\", show_cluster=True, force=True)"
   ]
  },
  {
   "cell_type": "code",
   "execution_count": 26,
   "metadata": {},
   "outputs": [
    {
     "name": "stdout",
     "output_type": "stream",
     "text": [
      "New Assembly: rad\n",
      "0   assembly_name               rad                                          \n",
      "1   project_dir                 ./outfiles                                   \n",
      "2   raw_fastq_path              ./ipsimdata/rad/*.fastq.gz                   \n",
      "3   barcodes_path               ./ipsimdata/rad/rad_example_barcodes.txt     \n",
      "4   sorted_fastq_path                                                        \n",
      "5   assembly_method             reference                                    \n",
      "6   reference_sequence          ./ipsimdata/rad/rad_example_genome.fa        \n",
      "7   datatype                    rad                                          \n",
      "8   restriction_overhang        ('TGCAG', '')                                \n",
      "9   max_low_qual_bases          5                                            \n",
      "10  phred_Qscore_offset         33                                           \n",
      "11  mindepth_statistical        6                                            \n",
      "12  mindepth_majrule            6                                            \n",
      "13  maxdepth                    10000                                        \n",
      "14  clust_threshold             0.85                                         \n",
      "15  max_barcode_mismatch        0                                            \n",
      "16  filter_adapters             0                                            \n",
      "17  filter_min_trim_len         35                                           \n",
      "18  max_alleles_consens         2                                            \n",
      "19  max_Ns_consens              (5, 5)                                       \n",
      "20  max_Hs_consens              (8, 8)                                       \n",
      "21  min_samples_locus           4                                            \n",
      "22  max_SNPs_locus              (20, 20)                                     \n",
      "23  max_Indels_locus            (8, 8)                                       \n",
      "24  max_shared_Hs_locus         0.5                                          \n",
      "25  trim_reads                  (0, 0, 0, 0)                                 \n",
      "26  trim_loci                   (0, 0, 0, 0)                                 \n",
      "27  output_formats              ['p', 's', 'v']                              \n",
      "28  pop_assign_file                                                          \n"
     ]
    }
   ],
   "source": [
    "## pairgbswmerge\n",
    "rad = ip.Assembly(\"rad\")\n",
    "\n",
    "## set parameters\n",
    "rad.set_params(\"project_dir\", \"outfiles\")\n",
    "rad.set_params(\"raw_fastq_path\", \"ipsimdata/rad/*.fastq.gz\")\n",
    "rad.set_params(\"datatype\", \"rad\")\n",
    "rad.set_params(\"assembly_method\", \"reference\")\n",
    "rad.set_params(\"reference_sequence\", \"ipsimdata/rad/rad_example_genome.fa\")\n",
    "rad.set_params(\"barcodes_path\", \"ipsimdata/rad/rad_example_barcodes.txt\")\n",
    "\n",
    "## see/print all parameters\n",
    "rad.get_params()"
   ]
  },
  {
   "cell_type": "code",
   "execution_count": 27,
   "metadata": {},
   "outputs": [
    {
     "name": "stdout",
     "output_type": "stream",
     "text": [
      "host compute node: [4 cores] on nickpic2\n",
      "Assembly: rad\n",
      "[force] overwriting fastq files previously created by ipyrad.\n",
      "This _does not_ affect your original/raw data files.\n",
      "[####################] 100%  sorting reads         | 0:00:02 | s1 | \n",
      "[####################] 100%  writing/compressing   | 0:00:00 | s1 | \n",
      "[####################] 100%  processing reads      | 0:00:02 | s2 | \n",
      "[####################] 100%  indexing reference    | 0:00:01 | s3 | \n",
      "[####################] 100%  dereplicating         | 0:00:00 | s3 | \n",
      "[####################] 100%  mapping               | 0:00:00 | s3 | \n",
      "[####################] 100%  fetch mapped reads    | 0:00:00 | s3 | \n",
      "[####################] 100%  chunking              | 0:00:00 | s3 | \n",
      "[####################] 100%  aligning              | 0:00:04 | s3 | \n",
      "[####################] 100%  concatenating         | 0:00:00 | s3 | \n",
      "[####################] 100%  inferring [H, E]      | 0:00:01 | s4 | \n",
      "[####################] 100%  calculating depths    | 0:00:00 | s5 | \n",
      "[####################] 100%  chunking clusters     | 0:00:00 | s5 | \n",
      "[####################] 100%  consens calling       | 0:00:06 | s5 | \n",
      "[####################] 100%  concat/shuffle input  | 0:00:00 | s6 | \n",
      "[####################] 100%  clustering across     | 0:00:01 | s6 | \n",
      "[####################] 100%  building clusters     | 0:00:00 | s6 | \n",
      "[####################] 100%  aligning clusters     | 0:00:01 | s6 | \n",
      "[####################] 100%  database indels       | 0:00:00 | s6 | \n",
      "[####################] 100%  indexing clusters     | 0:00:00 | s6 | \n",
      "[####################] 100%  building database     | 0:00:00 | s6 | \n",
      "[####################] 100%  filtering loci        | 0:00:00 | s7 | \n",
      "[####################] 100%  building loci/stats   | 0:00:00 | s7 | \n",
      "[####################] 100%  building vcf file     | 0:00:00 | s7 | \n",
      "[####################] 100%  writing vcf file      | 0:00:00 | s7 | \n",
      "[####################] 100%  building arrays       | 0:00:00 | s7 | \n",
      "[####################] 100%  writing outfiles      | 0:00:00 | s7 | \n",
      "Outfiles written to: ~/PDSB/12-parallel-genomics/notebooks/outfiles/rad_outfiles\n",
      "\n"
     ]
    }
   ],
   "source": [
    "rad.run(\"1234567\", show_cluster=True, force=True)"
   ]
  },
  {
   "cell_type": "markdown",
   "metadata": {},
   "source": [
    "### Print the final assembly stats"
   ]
  },
  {
   "cell_type": "markdown",
   "metadata": {},
   "source": [
    "#### Printing in-depth stats for first dataset (gbs). I can't figure out why step 6 doesn't show up when I print stats with `print(gbs.stats_dfs.s6)` because I can see it running in each dataset."
   ]
  },
  {
   "cell_type": "code",
   "execution_count": 46,
   "metadata": {},
   "outputs": [
    {
     "name": "stdout",
     "output_type": "stream",
     "text": [
      "s1 :       reads_raw\n",
      "1A_0      19862\n",
      "1B_0      20043\n",
      "1C_0      20136\n",
      "1D_0      19966\n",
      "2E_0      20017\n",
      "2F_0      19933\n",
      "2G_0      20030\n",
      "2H_0      20199\n",
      "3I_0      19885\n",
      "3J_0      19822\n",
      "3K_0      19965\n",
      "3L_0      20008\n",
      "s2 :       reads_raw  trim_adapter_bp_read1  trim_quality_bp_read1  \\\n",
      "1A_0      19862                      0                      0   \n",
      "1B_0      20043                      0                      0   \n",
      "1C_0      20136                      0                      0   \n",
      "1D_0      19966                      0                      0   \n",
      "2E_0      20017                      0                      0   \n",
      "2F_0      19933                      0                      0   \n",
      "2G_0      20030                      0                      0   \n",
      "2H_0      20199                      0                      0   \n",
      "3I_0      19885                      0                      0   \n",
      "3J_0      19822                      0                      0   \n",
      "3K_0      19965                      0                      0   \n",
      "3L_0      20008                      0                      0   \n",
      "\n",
      "      reads_filtered_by_Ns  reads_filtered_by_minlen  reads_passed_filter  \n",
      "1A_0                     0                         0                19862  \n",
      "1B_0                     0                         0                20043  \n",
      "1C_0                     0                         0                20136  \n",
      "1D_0                     0                         0                19966  \n",
      "2E_0                     0                         0                20017  \n",
      "2F_0                     0                         0                19933  \n",
      "2G_0                     0                         0                20030  \n",
      "2H_0                     0                         0                20199  \n",
      "3I_0                     0                         0                19885  \n",
      "3J_0                     0                         0                19822  \n",
      "3K_0                     0                         0                19965  \n",
      "3L_0                     0                         0                20008  \n",
      "s3 :       clusters_total  hidepth_min  clusters_hidepth  avg_depth_total  \\\n",
      "1A_0             499            6               499        20.024048   \n",
      "1B_0             500            6               500        20.048000   \n",
      "1C_0             500            6               500        20.158000   \n",
      "1D_0             500            6               500        19.874000   \n",
      "2E_0             500            6               500        19.996000   \n",
      "2F_0             500            6               500        19.922000   \n",
      "2G_0             500            6               500        19.906000   \n",
      "2H_0             499            6               499        20.290581   \n",
      "3I_0             500            6               500        19.802000   \n",
      "3J_0             500            6               500        19.758000   \n",
      "3K_0             500            6               500        20.086000   \n",
      "3L_0             499            6               499        19.997996   \n",
      "\n",
      "      avg_depth_mj  avg_depth_stat  sd_depth_total  sd_depth_mj  \\\n",
      "1A_0     20.024048       20.024048        2.857929     2.857929   \n",
      "1B_0     20.048000       20.048000        2.759293     2.759293   \n",
      "1C_0     20.158000       20.158000        2.866537     2.866537   \n",
      "1D_0     19.874000       19.874000        2.835864     2.835864   \n",
      "2E_0     19.996000       19.996000        2.845344     2.845344   \n",
      "2F_0     19.922000       19.922000        2.822750     2.822750   \n",
      "2G_0     19.906000       19.906000        2.733709     2.733709   \n",
      "2H_0     20.290581       20.290581        2.735086     2.735086   \n",
      "3I_0     19.802000       19.802000        3.051360     3.051360   \n",
      "3J_0     19.758000       19.758000        2.899558     2.899558   \n",
      "3K_0     20.086000       20.086000        2.968940     2.968940   \n",
      "3L_0     19.997996       19.997996        2.866082     2.866082   \n",
      "\n",
      "      sd_depth_stat  filtered_bad_align  \n",
      "1A_0       2.857929                   0  \n",
      "1B_0       2.759293                   0  \n",
      "1C_0       2.866537                   0  \n",
      "1D_0       2.835864                   0  \n",
      "2E_0       2.845344                   0  \n",
      "2F_0       2.822750                   0  \n",
      "2G_0       2.733709                   0  \n",
      "2H_0       2.735086                   0  \n",
      "3I_0       3.051360                   0  \n",
      "3J_0       2.899558                   0  \n",
      "3K_0       2.968940                   0  \n",
      "3L_0       2.866082                   0  \n",
      "s4 :       hetero_est  error_est\n",
      "1A_0    0.001817   0.000733\n",
      "1B_0    0.002026   0.000801\n",
      "1C_0    0.002064   0.000751\n",
      "1D_0    0.001271   0.000760\n",
      "2E_0    0.002196   0.000758\n",
      "2F_0    0.001928   0.000748\n",
      "2G_0    0.002205   0.000739\n",
      "2H_0    0.001856   0.000766\n",
      "3I_0    0.001866   0.000784\n",
      "3J_0    0.001905   0.000775\n",
      "3K_0    0.001776   0.000783\n",
      "3L_0    0.002152   0.000744\n",
      "s5 :       clusters_total  filtered_by_depth  filtered_by_maxH  filtered_by_maxN  \\\n",
      "1A_0             499                  0                 0                 0   \n",
      "1B_0             500                  0                 0                 0   \n",
      "1C_0             500                  0                 0                 0   \n",
      "1D_0             500                  0                 0                 0   \n",
      "2E_0             500                  0                 0                 0   \n",
      "2F_0             500                  0                 0                 0   \n",
      "2G_0             500                  0                 0                 0   \n",
      "2H_0             499                  0                 0                 0   \n",
      "3I_0             500                  0                 0                 0   \n",
      "3J_0             500                  0                 0                 0   \n",
      "3K_0             500                  0                 0                 0   \n",
      "3L_0             499                  0                 0                 0   \n",
      "\n",
      "      reads_consens  nsites  nhetero  heterozygosity  \n",
      "1A_0            499   45421       78        0.001717  \n",
      "1B_0            500   45505       86        0.001890  \n",
      "1C_0            500   45506       88        0.001934  \n",
      "1D_0            500   45502       55        0.001209  \n",
      "2E_0            500   45517       95        0.002087  \n",
      "2F_0            500   45507       82        0.001802  \n",
      "2G_0            500   45503       95        0.002088  \n",
      "2H_0            499   45422       80        0.001761  \n",
      "3I_0            500   45507       80        0.001758  \n",
      "3J_0            500   45513       82        0.001802  \n",
      "3K_0            500   45508       77        0.001692  \n",
      "3L_0            499   45411       92        0.002026  \n",
      "s7_filters :                             total_filters  applied_order  retained_loci\n",
      "total_prefiltered_loci                500              0            500\n",
      "filtered_by_rm_duplicates               0              0            500\n",
      "filtered_by_max_indels                  0              0            500\n",
      "filtered_by_max_snps                    0              0            500\n",
      "filtered_by_max_shared_het              0              0            500\n",
      "filtered_by_min_sample                  0              0            500\n",
      "filtered_by_max_alleles                 0              0            500\n",
      "total_filtered_loci                   500              0            500\n",
      "s7_loci :     locus_coverage  sum_coverage\n",
      "1                0             0\n",
      "2                0             0\n",
      "3                0             0\n",
      "4                0             0\n",
      "5                0             0\n",
      "6                0             0\n",
      "7                0             0\n",
      "8                0             0\n",
      "9                0             0\n",
      "10               1             1\n",
      "11               1             2\n",
      "12             498           500\n",
      "s7_samples :       sample_coverage\n",
      "1A_0              499\n",
      "1B_0              500\n",
      "1C_0              500\n",
      "1D_0              500\n",
      "2E_0              500\n",
      "2F_0              500\n",
      "2G_0              500\n",
      "2H_0              499\n",
      "3I_0              500\n",
      "3J_0              500\n",
      "3K_0              500\n",
      "3L_0              499\n",
      "s7_snps :     var  sum_var  pis  sum_pis\n",
      "0     6        0  166        0\n",
      "1    25       25  194      194\n",
      "2    55      135   90      374\n",
      "3   101      438   32      470\n",
      "4    97      826   14      526\n",
      "5    66     1156    2      536\n",
      "..  ...      ...  ...      ...\n",
      "8    29     2054    0      548\n",
      "9     6     2108    0      548\n",
      "10    6     2168    0      548\n",
      "11    1     2179    0      548\n",
      "12    2     2203    0      548\n",
      "13    1     2216    0      548\n",
      "\n",
      "[14 rows x 4 columns]\n",
      "\n"
     ]
    }
   ],
   "source": [
    "print(gbs.stats_dfs)"
   ]
  },
  {
   "cell_type": "code",
   "execution_count": 36,
   "metadata": {},
   "outputs": [
    {
     "name": "stdout",
     "output_type": "stream",
     "text": [
      "      state  reads_raw  reads_passed_filter  refseq_mapped_reads  \\\n",
      "1A_0      6      19835                19835                 1963   \n",
      "1B_0      6      20071                20071                 1974   \n",
      "1C_0      6      19969                19969                 1877   \n",
      "1D_0      6      20082                20082                 1858   \n",
      "2E_0      6      20004                20004                 1930   \n",
      "2F_0      6      19899                19899                 1917   \n",
      "2G_0      6      19928                19928                 1888   \n",
      "2H_0      6      20110                20110                 1840   \n",
      "3I_0      6      20078                20078                 1854   \n",
      "3J_0      6      19965                19965                 1857   \n",
      "3K_0      6      19846                19846                 1906   \n",
      "3L_0      6      20025                20025                 1882   \n",
      "\n",
      "      refseq_unmapped_reads  clusters_total  clusters_hidepth  hetero_est  \\\n",
      "1A_0                   1869             500               500    0.001845   \n",
      "1B_0                   1884             500               500    0.002020   \n",
      "1C_0                   1915             500               500    0.001775   \n",
      "1D_0                   1893             500               500    0.001492   \n",
      "2E_0                   1934             500               500    0.002062   \n",
      "2F_0                   1893             500               500    0.001752   \n",
      "2G_0                   1979             500               500    0.002037   \n",
      "2H_0                   1911             500               500    0.002147   \n",
      "3I_0                   1960             500               500    0.001999   \n",
      "3J_0                   1912             500               500    0.001663   \n",
      "3K_0                   1895             500               500    0.001848   \n",
      "3L_0                   1949             500               500    0.002019   \n",
      "\n",
      "      error_est  reads_consens  \n",
      "1A_0   0.000285            500  \n",
      "1B_0   0.000281            500  \n",
      "1C_0   0.000287            500  \n",
      "1D_0   0.000283            500  \n",
      "2E_0   0.000277            500  \n",
      "2F_0   0.000300            500  \n",
      "2G_0   0.000286            500  \n",
      "2H_0   0.000313            500  \n",
      "3I_0   0.000298            500  \n",
      "3J_0   0.000282            500  \n",
      "3K_0   0.000283            500  \n",
      "3L_0   0.000278            500  \n"
     ]
    }
   ],
   "source": [
    "print(pairddrad.stats)"
   ]
  },
  {
   "cell_type": "code",
   "execution_count": 37,
   "metadata": {},
   "outputs": [
    {
     "name": "stdout",
     "output_type": "stream",
     "text": [
      "      state  reads_raw  reads_passed_filter  refseq_mapped_reads  \\\n",
      "1A_0      6      20040                20040                 1836   \n",
      "1B_0      6      19982                19982                 1846   \n",
      "1C_0      6      20105                20105                 1928   \n",
      "1D_0      6      20172                20172                 1871   \n",
      "2E_0      6      20082                20082                 1873   \n",
      "2F_0      6      20082                20082                 1889   \n",
      "2G_0      6      20095                20095                 1892   \n",
      "2H_0      6      20005                20005                 1867   \n",
      "3I_0      6      19824                19824                 1854   \n",
      "3J_0      6      20100                20100                 1818   \n",
      "3K_0      6      20076                20076                 1923   \n",
      "3L_0      6      19932                19932                 1892   \n",
      "\n",
      "      refseq_unmapped_reads  clusters_total  clusters_hidepth  hetero_est  \\\n",
      "1A_0                   1914             500               500    0.002276   \n",
      "1B_0                   1881             500               500    0.002127   \n",
      "1C_0                   1870             500               500    0.002135   \n",
      "1D_0                   1855             500               500    0.002085   \n",
      "2E_0                   1872             500               500    0.001883   \n",
      "2F_0                   1891             500               500    0.001970   \n",
      "2G_0                   1939             500               500    0.002026   \n",
      "2H_0                   1908             500               500    0.002068   \n",
      "3I_0                   1868             500               500    0.001848   \n",
      "3J_0                   1832             500               500    0.001776   \n",
      "3K_0                   1911             500               500    0.002035   \n",
      "3L_0                   1853             500               500    0.001814   \n",
      "\n",
      "      error_est  reads_consens  \n",
      "1A_0   0.000279            500  \n",
      "1B_0   0.000302            500  \n",
      "1C_0   0.000294            500  \n",
      "1D_0   0.000293            500  \n",
      "2E_0   0.000296            500  \n",
      "2F_0   0.000305            500  \n",
      "2G_0   0.000281            500  \n",
      "2H_0   0.000294            500  \n",
      "3I_0   0.000283            500  \n",
      "3J_0   0.000279            500  \n",
      "3K_0   0.000273            500  \n",
      "3L_0   0.000297            500  \n"
     ]
    }
   ],
   "source": [
    "print(pairddradwmerge.stats)"
   ]
  },
  {
   "cell_type": "code",
   "execution_count": 38,
   "metadata": {},
   "outputs": [
    {
     "name": "stdout",
     "output_type": "stream",
     "text": [
      "      state  reads_raw  reads_passed_filter  clusters_total  clusters_hidepth  \\\n",
      "1A_0      6      19835                19835            1000              1000   \n",
      "1B_0      6      20071                20071            1000              1000   \n",
      "1C_0      6      19969                19969            1000              1000   \n",
      "1D_0      6      20082                20082            1000              1000   \n",
      "2E_0      6      20004                20004            1000              1000   \n",
      "2F_0      6      19899                19899            1000              1000   \n",
      "2G_0      6      19928                19928            1000              1000   \n",
      "2H_0      6      20110                20110            1000              1000   \n",
      "3I_0      6      20078                20078            1000              1000   \n",
      "3J_0      6      19965                19965            1000              1000   \n",
      "3K_0      6      19846                19846            1000              1000   \n",
      "3L_0      6      20025                20025            1000              1000   \n",
      "\n",
      "      hetero_est  error_est  reads_consens  \n",
      "1A_0    0.001845   0.000752           1000  \n",
      "1B_0    0.001925   0.000743           1000  \n",
      "1C_0    0.001885   0.000724           1000  \n",
      "1D_0    0.001818   0.000705           1000  \n",
      "2E_0    0.001866   0.000746           1000  \n",
      "2F_0    0.001894   0.000738           1000  \n",
      "2G_0    0.001834   0.000747           1000  \n",
      "2H_0    0.002028   0.000703           1000  \n",
      "3I_0    0.001880   0.000728           1000  \n",
      "3J_0    0.001846   0.000713           1000  \n",
      "3K_0    0.001909   0.000738           1000  \n",
      "3L_0    0.001980   0.000732           1000  \n"
     ]
    }
   ],
   "source": [
    "print(pairgbs.stats)"
   ]
  },
  {
   "cell_type": "code",
   "execution_count": 39,
   "metadata": {},
   "outputs": [
    {
     "name": "stdout",
     "output_type": "stream",
     "text": [
      "      state  reads_raw  reads_passed_filter  refseq_mapped_reads  \\\n",
      "1A_0      6      20040                20040                 1831   \n",
      "1B_0      6      19982                19982                 1836   \n",
      "1C_0      6      20105                20105                 1918   \n",
      "1D_0      6      20172                20172                 1856   \n",
      "2E_0      6      20082                20082                 1862   \n",
      "2F_0      6      20082                20082                 1882   \n",
      "2G_0      6      20095                20095                 1881   \n",
      "2H_0      6      20005                20005                 1854   \n",
      "3I_0      6      19824                19824                 1842   \n",
      "3J_0      6      20100                20100                 1811   \n",
      "3K_0      6      20076                20076                 1919   \n",
      "3L_0      6      19932                19932                 1890   \n",
      "\n",
      "      refseq_unmapped_reads  clusters_total  clusters_hidepth  hetero_est  \\\n",
      "1A_0                   1904             500               500    0.002151   \n",
      "1B_0                   1868             500               500    0.002067   \n",
      "1C_0                   1859             500               500    0.002075   \n",
      "1D_0                   1844             500               500    0.002113   \n",
      "2E_0                   1859             500               500    0.001941   \n",
      "2F_0                   1881             500               500    0.001999   \n",
      "2G_0                   1923             500               500    0.001811   \n",
      "2H_0                   1891             500               500    0.002068   \n",
      "3I_0                   1858             500               500    0.001849   \n",
      "3J_0                   1822             500               500    0.001878   \n",
      "3K_0                   1897             500               500    0.001860   \n",
      "3L_0                   1839             500               500    0.001814   \n",
      "\n",
      "      error_est  reads_consens  \n",
      "1A_0   0.000277            500  \n",
      "1B_0   0.000302            500  \n",
      "1C_0   0.000284            500  \n",
      "1D_0   0.000295            500  \n",
      "2E_0   0.000291            500  \n",
      "2F_0   0.000298            500  \n",
      "2G_0   0.000290            500  \n",
      "2H_0   0.000294            500  \n",
      "3I_0   0.000286            500  \n",
      "3J_0   0.000277            500  \n",
      "3K_0   0.000277            500  \n",
      "3L_0   0.000297            500  \n"
     ]
    }
   ],
   "source": [
    "print(pairgbswmerge.stats)"
   ]
  },
  {
   "cell_type": "code",
   "execution_count": 40,
   "metadata": {},
   "outputs": [
    {
     "name": "stdout",
     "output_type": "stream",
     "text": [
      "      state  reads_raw  reads_passed_filter  refseq_mapped_reads  \\\n",
      "1A_0      6      19862                19862                 1176   \n",
      "1B_0      6      20043                20043                 1237   \n",
      "1C_0      6      20136                20136                 1205   \n",
      "1D_0      6      19966                19966                 1169   \n",
      "2E_0      6      20017                20017                 1218   \n",
      "2F_0      6      19933                19933                 1183   \n",
      "2G_0      6      20030                20030                 1195   \n",
      "2H_0      6      20199                20199                 1204   \n",
      "3I_0      6      19885                19885                 1208   \n",
      "3J_0      6      19822                19822                 1195   \n",
      "3K_0      6      19965                19965                 1221   \n",
      "3L_0      6      20008                20008                 1197   \n",
      "\n",
      "      refseq_unmapped_reads  clusters_total  clusters_hidepth  hetero_est  \\\n",
      "1A_0                   1229             499               499    0.001817   \n",
      "1B_0                   1156             500               500    0.002026   \n",
      "1C_0                   1169             500               500    0.002064   \n",
      "1D_0                   1208             500               500    0.001271   \n",
      "2E_0                   1198             500               500    0.002196   \n",
      "2F_0                   1210             500               500    0.001928   \n",
      "2G_0                   1223             500               500    0.002205   \n",
      "2H_0                   1196             499               499    0.001856   \n",
      "3I_0                   1167             500               500    0.001866   \n",
      "3J_0                   1216             500               500    0.001905   \n",
      "3K_0                   1192             500               500    0.001776   \n",
      "3L_0                   1186             499               499    0.002152   \n",
      "\n",
      "      error_est  reads_consens  \n",
      "1A_0   0.000733            499  \n",
      "1B_0   0.000801            500  \n",
      "1C_0   0.000751            500  \n",
      "1D_0   0.000760            500  \n",
      "2E_0   0.000758            500  \n",
      "2F_0   0.000748            500  \n",
      "2G_0   0.000739            500  \n",
      "2H_0   0.000766            499  \n",
      "3I_0   0.000784            500  \n",
      "3J_0   0.000775            500  \n",
      "3K_0   0.000783            500  \n",
      "3L_0   0.000744            499  \n"
     ]
    }
   ],
   "source": [
    "print(rad.stats)"
   ]
  },
  {
   "cell_type": "markdown",
   "metadata": {},
   "source": [
    "### Show the location of your assembled output files"
   ]
  },
  {
   "cell_type": "code",
   "execution_count": 43,
   "metadata": {},
   "outputs": [
    {
     "name": "stdout",
     "output_type": "stream",
     "text": [
      "\u001b[0m\u001b[01;34mgbs_across\u001b[0m/            \u001b[01;34mpairddradwmerge_across\u001b[0m/      \u001b[01;34mpairgbswmerge_clust_0.85\u001b[0m/\r\n",
      "\u001b[01;34mgbs_clust_0.85\u001b[0m/        \u001b[01;34mpairddradwmerge_clust_0.85\u001b[0m/  \u001b[01;34mpairgbswmerge_consens\u001b[0m/\r\n",
      "\u001b[01;34mgbs_consens\u001b[0m/           \u001b[01;34mpairddradwmerge_consens\u001b[0m/     \u001b[01;34mpairgbswmerge_edits\u001b[0m/\r\n",
      "\u001b[01;34mgbs_edits\u001b[0m/             \u001b[01;34mpairddradwmerge_edits\u001b[0m/       \u001b[01;34mpairgbswmerge_fastqs\u001b[0m/\r\n",
      "\u001b[01;34mgbs_fastqs\u001b[0m/            \u001b[01;34mpairddradwmerge_fastqs\u001b[0m/      pairgbswmerge.json\r\n",
      "gbs.json               pairddradwmerge.json         \u001b[01;34mpairgbswmerge_outfiles\u001b[0m/\r\n",
      "\u001b[01;34mgbs_outfiles\u001b[0m/          \u001b[01;34mpairddradwmerge_outfiles\u001b[0m/    \u001b[01;34mpairgbswmerge_refmapping\u001b[0m/\r\n",
      "\u001b[01;34mgbs_refmapping\u001b[0m/        \u001b[01;34mpairddradwmerge_refmapping\u001b[0m/  \u001b[01;34mrad_across\u001b[0m/\r\n",
      "\u001b[01;34mpairddrad_across\u001b[0m/      \u001b[01;34mpairgbs_across\u001b[0m/              \u001b[01;34mrad_clust_0.85\u001b[0m/\r\n",
      "\u001b[01;34mpairddrad_clust_0.85\u001b[0m/  \u001b[01;34mpairgbs_clust_0.85\u001b[0m/          \u001b[01;34mrad_consens\u001b[0m/\r\n",
      "\u001b[01;34mpairddrad_consens\u001b[0m/     \u001b[01;34mpairgbs_consens\u001b[0m/             \u001b[01;34mrad_edits\u001b[0m/\r\n",
      "\u001b[01;34mpairddrad_edits\u001b[0m/       \u001b[01;34mpairgbs_edits\u001b[0m/               \u001b[01;34mrad_fastqs\u001b[0m/\r\n",
      "\u001b[01;34mpairddrad_fastqs\u001b[0m/      \u001b[01;34mpairgbs_fastqs\u001b[0m/              rad.json\r\n",
      "pairddrad.json         pairgbs.json                 \u001b[01;34mrad_outfiles\u001b[0m/\r\n",
      "\u001b[01;34mpairddrad_outfiles\u001b[0m/    \u001b[01;34mpairgbs_outfiles\u001b[0m/            \u001b[01;34mrad_refmapping\u001b[0m/\r\n",
      "\u001b[01;34mpairddrad_refmapping\u001b[0m/  \u001b[01;34mpairgbswmerge_across\u001b[0m/\r\n"
     ]
    }
   ],
   "source": [
    "ls /home/nicolas/PDSB/12-parallel-genomics/notebooks/outfiles/"
   ]
  }
 ],
 "metadata": {
  "kernelspec": {
   "display_name": "Python 2",
   "language": "python",
   "name": "python2"
  },
  "language_info": {
   "codemirror_mode": {
    "name": "ipython",
    "version": 2
   },
   "file_extension": ".py",
   "mimetype": "text/x-python",
   "name": "python",
   "nbconvert_exporter": "python",
   "pygments_lexer": "ipython2",
   "version": "2.7.14"
  }
 },
 "nbformat": 4,
 "nbformat_minor": 2
}
