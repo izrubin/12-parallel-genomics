{
 "cells": [
  {
   "cell_type": "markdown",
   "metadata": {},
   "source": [
    "### Assignment: assemble an ipyrad example data set\n",
    "\n",
    "Follow the instructions here: http://ipyrad.readthedocs.io/API_user-guide.html to assemble a dataset using the ipyrad API. You will need to download the dataset as instructed below. This dataset is different from the one in the linked tutorial. Be sure to download the data into your scratch space, and to set the project directory for you ipyrad analysis to your scratch directory. You can use any of the datasets in the downloaded directory. Read the ipyrad docs if you have questions and/or hit up the gitter chatroom. \n",
    "\n",
    "** When finished copy this notebook to your assignments/ dir, push it, and make a pull request**. "
   ]
  },
  {
   "cell_type": "code",
   "execution_count": 1,
   "metadata": {},
   "outputs": [
    {
     "name": "stderr",
     "output_type": "stream",
     "text": [
      "/Users/Sylvia/miniconda3/envs/py27/lib/python2.7/site-packages/h5py/__init__.py:36: FutureWarning: Conversion of the second argument of issubdtype from `float` to `np.floating` is deprecated. In future, it will be treated as `np.float64 == np.dtype(float).type`.\n",
      "  from ._conv import register_converters as _register_converters\n"
     ]
    }
   ],
   "source": [
    "import ipyrad as ip\n",
    "import ipyparallel as ipp"
   ]
  },
  {
   "cell_type": "markdown",
   "metadata": {},
   "source": [
    "### Download the data\n",
    "You will probably want to move the data to your scratch directory. You can run this code here to download it, or from a terminal. "
   ]
  },
  {
   "cell_type": "code",
   "execution_count": 2,
   "metadata": {
    "scrolled": true
   },
   "outputs": [
    {
     "name": "stderr",
     "output_type": "stream",
     "text": [
      "  % Total    % Received % Xferd  Average Speed   Time    Time     Time  Current\n",
      "                                 Dload  Upload   Total   Spent    Left  Speed\n",
      "\r",
      "  0     0    0     0    0     0      0      0 --:--:-- --:--:-- --:--:--     0\r",
      "100   147  100   147    0     0   1065      0 --:--:-- --:--:-- --:--:--  1072\n",
      "\r",
      " 22 11.8M   22 2672k    0     0  4380k      0  0:00:02 --:--:--  0:00:02 4380k\r",
      "100 11.8M  100 11.8M    0     0   9.8M      0  0:00:01  0:00:01 --:--:-- 15.7M\n",
      "x ./ipsimdata/\n",
      "x ./ipsimdata/pairgbs_example_R2_.fastq.gz\n",
      "x ./ipsimdata/pairgbs_wmerge_example_barcodes.txt\n",
      "x ./ipsimdata/rad_example_genome.fa\n",
      "x ./ipsimdata/pairddrad_example_genome.fa\n",
      "x ./ipsimdata/pairgbs_example_R1_.fastq.gz\n",
      "x ./ipsimdata/pairgbs_wmerge_example_R2_.fastq.gz\n",
      "x ./ipsimdata/rad_example_genome.fa.fai\n",
      "x ./ipsimdata/pairddrad_example_R2_.fastq.gz\n",
      "x ./ipsimdata/pairddrad_example_genome.fa.sma\n",
      "x ./ipsimdata/pairddrad_example_genome.fa.fai\n",
      "x ./ipsimdata/pairgbs_wmerge_example_genome.fa\n",
      "x ./ipsimdata/pairddrad_wmerge_example_genome.fa\n",
      "x ./ipsimdata/pairddrad_example_genome.fa.smi\n",
      "x ./ipsimdata/pairgbs_wmerge_example_R1_.fastq.gz\n",
      "x ./ipsimdata/rad_example_genome.fa.smi\n",
      "x ./ipsimdata/gbs_example_barcodes.txt\n",
      "x ./ipsimdata/pairgbs_example_barcodes.txt\n",
      "x ./ipsimdata/pairddrad_example_R1_.fastq.gz\n",
      "x ./ipsimdata/pairddrad_wmerge_example_barcodes.txt\n",
      "x ./ipsimdata/rad_example_barcodes.txt\n",
      "x ./ipsimdata/pairddrad_wmerge_example_R1_.fastq.gz\n",
      "x ./ipsimdata/pairddrad_wmerge_example_R2_.fastq.gz\n",
      "x ./ipsimdata/gbs_example_R1_.fastq.gz\n",
      "x ./ipsimdata/pairddrad_example_barcodes.txt\n",
      "x ./ipsimdata/rad_example_genome.fa.sma\n",
      "x ./ipsimdata/rad_example_R1_.fastq.gz\n",
      "x ./ipsimdata/gbs_example_genome.fa\n"
     ]
    }
   ],
   "source": [
    "%%bash\n",
    "## The curl command needs a capital O, not a zero\n",
    "curl -LkO https://github.com/dereneaton/ipyrad/raw/master/tests/ipsimdata.tar.gz\n",
    "tar -xvzf ipsimdata.tar.gz"
   ]
  },
  {
   "cell_type": "code",
   "execution_count": 3,
   "metadata": {},
   "outputs": [
    {
     "name": "stdout",
     "output_type": "stream",
     "text": [
      "gbs_example_R1_.fastq.gz               pairgbs_example_R1_.fastq.gz\r\n",
      "gbs_example_barcodes.txt               pairgbs_example_R2_.fastq.gz\r\n",
      "gbs_example_genome.fa                  pairgbs_example_barcodes.txt\r\n",
      "pairddrad_example_R1_.fastq.gz         pairgbs_wmerge_example_R1_.fastq.gz\r\n",
      "pairddrad_example_R2_.fastq.gz         pairgbs_wmerge_example_R2_.fastq.gz\r\n",
      "pairddrad_example_barcodes.txt         pairgbs_wmerge_example_barcodes.txt\r\n",
      "pairddrad_example_genome.fa            pairgbs_wmerge_example_genome.fa\r\n",
      "pairddrad_example_genome.fa.fai        rad_example_R1_.fastq.gz\r\n",
      "pairddrad_example_genome.fa.sma        rad_example_barcodes.txt\r\n",
      "pairddrad_example_genome.fa.smi        rad_example_genome.fa\r\n",
      "pairddrad_wmerge_example_R1_.fastq.gz  rad_example_genome.fa.fai\r\n",
      "pairddrad_wmerge_example_R2_.fastq.gz  rad_example_genome.fa.sma\r\n",
      "pairddrad_wmerge_example_barcodes.txt  rad_example_genome.fa.smi\r\n",
      "pairddrad_wmerge_example_genome.fa\r\n"
     ]
    }
   ],
   "source": [
    "ls ipsimdata/"
   ]
  },
  {
   "cell_type": "markdown",
   "metadata": {},
   "source": [
    "### Connect to an ipcluster instance"
   ]
  },
  {
   "cell_type": "code",
   "execution_count": 24,
   "metadata": {},
   "outputs": [],
   "source": [
    "# Run this in terminal: ipcluster start --n=4"
   ]
  },
  {
   "cell_type": "code",
   "execution_count": 4,
   "metadata": {},
   "outputs": [],
   "source": [
    "ipyclient = ipp.Client()"
   ]
  },
  {
   "cell_type": "code",
   "execution_count": 5,
   "metadata": {},
   "outputs": [
    {
     "data": {
      "text/plain": [
       "[0, 1, 2, 3]"
      ]
     },
     "execution_count": 5,
     "metadata": {},
     "output_type": "execute_result"
    }
   ],
   "source": [
    "ipyclient.ids"
   ]
  },
  {
   "cell_type": "markdown",
   "metadata": {},
   "source": [
    "### Assembly the dataset from step 1 to step 7"
   ]
  },
  {
   "cell_type": "code",
   "execution_count": 6,
   "metadata": {},
   "outputs": [
    {
     "name": "stdout",
     "output_type": "stream",
     "text": [
      "New Assembly: gbs\n"
     ]
    }
   ],
   "source": [
    "gbs = ip.Assembly(\"gbs\")"
   ]
  },
  {
   "cell_type": "code",
   "execution_count": 7,
   "metadata": {},
   "outputs": [],
   "source": [
    "gbs.set_params(\"project_dir\", \"pedicularis\")\n",
    "gbs.set_params(\"raw_fastq_path\", \"./ipsimdata/gbs_example_R1_.fastq.gz\")\n",
    "gbs.set_params(\"barcodes_path\", \"./ipsimdata/gbs_example_barcodes.txt\")\n",
    "gbs.set_params('filter_adapters', 2)\n",
    "gbs.set_params('datatype', 'gbs')"
   ]
  },
  {
   "cell_type": "code",
   "execution_count": 8,
   "metadata": {},
   "outputs": [
    {
     "name": "stdout",
     "output_type": "stream",
     "text": [
      "0   assembly_name               gbs                                          \n",
      "1   project_dir                 ./pedicularis                                \n",
      "2   raw_fastq_path              ./ipsimdata/gbs_example_R1_.fastq.gz         \n",
      "3   barcodes_path               ./ipsimdata/gbs_example_barcodes.txt         \n",
      "4   sorted_fastq_path                                                        \n",
      "5   assembly_method             denovo                                       \n",
      "6   reference_sequence                                                       \n",
      "7   datatype                    gbs                                          \n",
      "8   restriction_overhang        ('TGCAG', '')                                \n",
      "9   max_low_qual_bases          5                                            \n",
      "10  phred_Qscore_offset         33                                           \n",
      "11  mindepth_statistical        6                                            \n",
      "12  mindepth_majrule            6                                            \n",
      "13  maxdepth                    10000                                        \n",
      "14  clust_threshold             0.85                                         \n",
      "15  max_barcode_mismatch        0                                            \n",
      "16  filter_adapters             2                                            \n",
      "17  filter_min_trim_len         35                                           \n",
      "18  max_alleles_consens         2                                            \n",
      "19  max_Ns_consens              (5, 5)                                       \n",
      "20  max_Hs_consens              (8, 8)                                       \n",
      "21  min_samples_locus           4                                            \n",
      "22  max_SNPs_locus              (20, 20)                                     \n",
      "23  max_Indels_locus            (8, 8)                                       \n",
      "24  max_shared_Hs_locus         0.5                                          \n",
      "25  trim_reads                  (0, 0, 0, 0)                                 \n",
      "26  trim_loci                   (0, 0, 0, 0)                                 \n",
      "27  output_formats              ['p', 's', 'v']                              \n",
      "28  pop_assign_file                                                          \n"
     ]
    }
   ],
   "source": [
    "gbs.get_params()"
   ]
  },
  {
   "cell_type": "code",
   "execution_count": 9,
   "metadata": {},
   "outputs": [
    {
     "name": "stdout",
     "output_type": "stream",
     "text": [
      "fastqs : \n",
      "edits : \n",
      "clusts : \n",
      "consens : \n",
      "outfiles : \n",
      "\n"
     ]
    }
   ],
   "source": [
    "print gbs.dirs"
   ]
  },
  {
   "cell_type": "code",
   "execution_count": 10,
   "metadata": {},
   "outputs": [
    {
     "name": "stdout",
     "output_type": "stream",
     "text": [
      "Assembly: gbs\n",
      "[####################] 100%  sorting reads         | 0:00:04 | s1 | \n",
      "[####################] 100%  writing/compressing   | 0:00:00 | s1 | \n"
     ]
    }
   ],
   "source": [
    "gbs.run(\"1\")"
   ]
  },
  {
   "cell_type": "code",
   "execution_count": 11,
   "metadata": {},
   "outputs": [
    {
     "name": "stdout",
     "output_type": "stream",
     "text": [
      "      state  reads_raw\n",
      "1A_0      1      19862\n",
      "1B_0      1      20043\n",
      "1C_0      1      20136\n",
      "1D_0      1      19966\n",
      "2E_0      1      20017\n",
      "2F_0      1      19933\n",
      "2G_0      1      20030\n",
      "2H_0      1      20199\n",
      "3I_0      1      19885\n",
      "3J_0      1      19822\n",
      "3K_0      1      19965\n",
      "3L_0      1      20008\n"
     ]
    }
   ],
   "source": [
    "print gbs.stats "
   ]
  },
  {
   "cell_type": "code",
   "execution_count": 13,
   "metadata": {},
   "outputs": [
    {
     "name": "stdout",
     "output_type": "stream",
     "text": [
      "host compute node: [4 cores] on dyn-160-39-171-6.dyn.columbia.edu\n",
      "Assembly: gbs\n",
      "[####################] 100%  processing reads      | 0:00:11 | s2 | \n",
      "[####################] 100%  dereplicating         | 0:00:00 | s3 | \n",
      "[####################] 100%  clustering            | 0:00:01 | s3 | \n",
      "[####################] 100%  building clusters     | 0:00:00 | s3 | \n",
      "[####################] 100%  chunking              | 0:00:00 | s3 | \n",
      "[####################] 100%  aligning              | 0:00:43 | s3 | \n",
      "[####################] 100%  concatenating         | 0:00:00 | s3 | \n",
      "[####################] 100%  inferring [H, E]      | 0:00:04 | s4 | \n",
      "[####################] 100%  calculating depths    | 0:00:00 | s5 | \n",
      "[####################] 100%  chunking clusters     | 0:00:00 | s5 | \n",
      "[####################] 100%  consens calling       | 0:00:27 | s5 | \n",
      "[####################] 100%  concat/shuffle input  | 0:00:00 | s6 | \n",
      "[####################] 100%  clustering across     | 0:00:03 | s6 | \n",
      "[####################] 100%  building clusters     | 0:00:00 | s6 | \n",
      "[####################] 100%  aligning clusters     | 0:00:09 | s6 | \n",
      "[####################] 100%  database indels       | 0:00:00 | s6 | \n",
      "[####################] 100%  indexing clusters     | 0:00:00 | s6 | \n",
      "[####################] 100%  building database     | 0:00:00 | s6 | \n",
      "[####################] 100%  filtering loci        | 0:00:00 | s7 | \n",
      "[####################] 100%  building loci/stats   | 0:00:00 | s7 | \n",
      "[####################] 100%  building vcf file     | 0:00:01 | s7 | \n",
      "[####################] 100%  writing vcf file      | 0:00:00 | s7 | \n",
      "[####################] 100%  building arrays       | 0:00:00 | s7 | \n",
      "[####################] 100%  writing outfiles      | 0:00:00 | s7 | \n",
      "Outfiles written to: ~/PDSB/12-parallel-genomics/notebooks/pedicularis/gbs_outfiles\n",
      "\n"
     ]
    }
   ],
   "source": [
    "gbs.run(\"234567\", show_cluster=True, force=True)"
   ]
  },
  {
   "cell_type": "code",
   "execution_count": 14,
   "metadata": {},
   "outputs": [
    {
     "name": "stdout",
     "output_type": "stream",
     "text": [
      "New Assembly: rad\n",
      "0   assembly_name               rad                                          \n",
      "1   project_dir                 ./pedicularis                                \n",
      "2   raw_fastq_path              ./ipsimdata/rad_example_R1_.fastq.gz         \n",
      "3   barcodes_path               ./ipsimdata/rad_example_barcodes.txt         \n",
      "4   sorted_fastq_path                                                        \n",
      "5   assembly_method             denovo                                       \n",
      "6   reference_sequence                                                       \n",
      "7   datatype                    rad                                          \n",
      "8   restriction_overhang        ('TGCAG', '')                                \n",
      "9   max_low_qual_bases          5                                            \n",
      "10  phred_Qscore_offset         33                                           \n",
      "11  mindepth_statistical        6                                            \n",
      "12  mindepth_majrule            6                                            \n",
      "13  maxdepth                    10000                                        \n",
      "14  clust_threshold             0.85                                         \n",
      "15  max_barcode_mismatch        0                                            \n",
      "16  filter_adapters             2                                            \n",
      "17  filter_min_trim_len         35                                           \n",
      "18  max_alleles_consens         2                                            \n",
      "19  max_Ns_consens              (5, 5)                                       \n",
      "20  max_Hs_consens              (8, 8)                                       \n",
      "21  min_samples_locus           4                                            \n",
      "22  max_SNPs_locus              (20, 20)                                     \n",
      "23  max_Indels_locus            (8, 8)                                       \n",
      "24  max_shared_Hs_locus         0.5                                          \n",
      "25  trim_reads                  (0, 0, 0, 0)                                 \n",
      "26  trim_loci                   (0, 0, 0, 0)                                 \n",
      "27  output_formats              ['p', 's', 'v']                              \n",
      "28  pop_assign_file                                                          \n",
      "host compute node: [4 cores] on dyn-160-39-171-6.dyn.columbia.edu\n",
      "Assembly: rad\n",
      "[####################] 100%  sorting reads         | 0:00:05 | s1 | \n",
      "[####################] 100%  writing/compressing   | 0:00:00 | s1 | \n",
      "[####################] 100%  processing reads      | 0:00:10 | s2 | \n",
      "[####################] 100%  dereplicating         | 0:00:00 | s3 | \n",
      "[####################] 100%  clustering            | 0:00:01 | s3 | \n",
      "[####################] 100%  building clusters     | 0:00:00 | s3 | \n",
      "[####################] 100%  chunking              | 0:00:00 | s3 | \n",
      "[####################] 100%  aligning              | 0:00:40 | s3 | \n",
      "[####################] 100%  concatenating         | 0:00:00 | s3 | \n",
      "[####################] 100%  inferring [H, E]      | 0:00:03 | s4 | \n",
      "[####################] 100%  calculating depths    | 0:00:00 | s5 | \n",
      "[####################] 100%  chunking clusters     | 0:00:00 | s5 | \n",
      "[####################] 100%  consens calling       | 0:00:22 | s5 | \n",
      "[####################] 100%  concat/shuffle input  | 0:00:00 | s6 | \n",
      "[####################] 100%  clustering across     | 0:00:03 | s6 | \n",
      "[####################] 100%  building clusters     | 0:00:00 | s6 | \n",
      "[####################] 100%  aligning clusters     | 0:00:09 | s6 | \n",
      "[####################] 100%  database indels       | 0:00:00 | s6 | \n",
      "[####################] 100%  indexing clusters     | 0:00:00 | s6 | \n",
      "[####################] 100%  building database     | 0:00:00 | s6 | \n",
      "[####################] 100%  filtering loci        | 0:00:00 | s7 | \n",
      "[####################] 100%  building loci/stats   | 0:00:00 | s7 | \n",
      "[####################] 100%  building vcf file     | 0:00:01 | s7 | \n",
      "[####################] 100%  writing vcf file      | 0:00:00 | s7 | \n",
      "[####################] 100%  building arrays       | 0:00:00 | s7 | \n",
      "[####################] 100%  writing outfiles      | 0:00:00 | s7 | \n",
      "Outfiles written to: ~/PDSB/12-parallel-genomics/notebooks/pedicularis/rad_outfiles\n",
      "\n"
     ]
    }
   ],
   "source": [
    "# Similarly, do the same process to rad\n",
    "\n",
    "rad = ip.Assembly(\"rad\")\n",
    "\n",
    "rad.set_params(\"project_dir\", \"pedicularis\")\n",
    "rad.set_params(\"raw_fastq_path\", \"./ipsimdata/rad_example_R1_.fastq.gz\")\n",
    "rad.set_params(\"barcodes_path\", \"./ipsimdata/rad_example_barcodes.txt\")\n",
    "rad.set_params('filter_adapters', 2)\n",
    "rad.set_params('datatype', 'rad')\n",
    "\n",
    "rad.get_params()\n",
    "\n",
    "rad.run(\"1234567\", show_cluster=True)"
   ]
  },
  {
   "cell_type": "markdown",
   "metadata": {},
   "source": [
    "### Print the final assembly stats"
   ]
  },
  {
   "cell_type": "code",
   "execution_count": 15,
   "metadata": {},
   "outputs": [
    {
     "name": "stdout",
     "output_type": "stream",
     "text": [
      "      state  reads_raw  reads_passed_filter  clusters_total  clusters_hidepth  \\\n",
      "1A_0      6      19862                19862            1000              1000   \n",
      "1B_0      6      20043                20043            1000              1000   \n",
      "1C_0      6      20136                20136            1000              1000   \n",
      "1D_0      6      19966                19966            1000              1000   \n",
      "2E_0      6      20017                20017            1000              1000   \n",
      "2F_0      6      19933                19933            1000              1000   \n",
      "2G_0      6      20030                20030            1000              1000   \n",
      "2H_0      6      20199                20198            1000              1000   \n",
      "3I_0      6      19885                19885            1000              1000   \n",
      "3J_0      6      19822                19822            1000              1000   \n",
      "3K_0      6      19965                19965            1000              1000   \n",
      "3L_0      6      20008                20008            1000              1000   \n",
      "\n",
      "      hetero_est  error_est  reads_consens  \n",
      "1A_0    0.001828   0.000761           1000  \n",
      "1B_0    0.001975   0.000751           1000  \n",
      "1C_0    0.002052   0.000744           1000  \n",
      "1D_0    0.001789   0.000757           1000  \n",
      "2E_0    0.001824   0.000759           1000  \n",
      "2F_0    0.001940   0.000759           1000  \n",
      "2G_0    0.001932   0.000761           1000  \n",
      "2H_0    0.001744   0.000752           1000  \n",
      "3I_0    0.001822   0.000753           1000  \n",
      "3J_0    0.001968   0.000783           1000  \n",
      "3K_0    0.001980   0.000761           1000  \n",
      "3L_0    0.002042   0.000748           1000  \n"
     ]
    }
   ],
   "source": [
    "print gbs.stats"
   ]
  },
  {
   "cell_type": "code",
   "execution_count": 16,
   "metadata": {},
   "outputs": [
    {
     "name": "stdout",
     "output_type": "stream",
     "text": [
      "      state  reads_raw  reads_passed_filter  clusters_total  clusters_hidepth  \\\n",
      "1A_0      6      19862                19862            1000              1000   \n",
      "1B_0      6      20043                20043            1000              1000   \n",
      "1C_0      6      20136                20136            1000              1000   \n",
      "1D_0      6      19966                19966            1000              1000   \n",
      "2E_0      6      20017                20017            1000              1000   \n",
      "2F_0      6      19933                19933            1000              1000   \n",
      "2G_0      6      20030                20030            1000              1000   \n",
      "2H_0      6      20199                20198            1000              1000   \n",
      "3I_0      6      19885                19885            1000              1000   \n",
      "3J_0      6      19822                19822            1000              1000   \n",
      "3K_0      6      19965                19965            1000              1000   \n",
      "3L_0      6      20008                20008            1000              1000   \n",
      "\n",
      "      hetero_est  error_est  reads_consens  \n",
      "1A_0    0.001852   0.000758           1000  \n",
      "1B_0    0.001900   0.000752           1000  \n",
      "1C_0    0.002084   0.000745           1000  \n",
      "1D_0    0.001803   0.000754           1000  \n",
      "2E_0    0.001831   0.000765           1000  \n",
      "2F_0    0.001996   0.000755           1000  \n",
      "2G_0    0.001940   0.000763           1000  \n",
      "2H_0    0.001747   0.000756           1000  \n",
      "3I_0    0.001818   0.000755           1000  \n",
      "3J_0    0.001968   0.000783           1000  \n",
      "3K_0    0.002072   0.000760           1000  \n",
      "3L_0    0.002042   0.000748           1000  \n"
     ]
    }
   ],
   "source": [
    "print rad.stats"
   ]
  },
  {
   "cell_type": "markdown",
   "metadata": {},
   "source": [
    "### Show the location of your assembled output files"
   ]
  },
  {
   "cell_type": "code",
   "execution_count": 17,
   "metadata": {},
   "outputs": [
    {
     "name": "stdout",
     "output_type": "stream",
     "text": [
      "gbs.json        \u001b[1m\u001b[34mgbs_consens\u001b[m\u001b[m/    \u001b[1m\u001b[34mgbs_outfiles\u001b[m\u001b[m/   \u001b[1m\u001b[34mrad_clust_0.85\u001b[m\u001b[m/ \u001b[1m\u001b[34mrad_fastqs\u001b[m\u001b[m/\r\n",
      "\u001b[1m\u001b[34mgbs_across\u001b[m\u001b[m/     \u001b[1m\u001b[34mgbs_edits\u001b[m\u001b[m/      rad.json        \u001b[1m\u001b[34mrad_consens\u001b[m\u001b[m/    \u001b[1m\u001b[34mrad_outfiles\u001b[m\u001b[m/\r\n",
      "\u001b[1m\u001b[34mgbs_clust_0.85\u001b[m\u001b[m/ \u001b[1m\u001b[34mgbs_fastqs\u001b[m\u001b[m/     \u001b[1m\u001b[34mrad_across\u001b[m\u001b[m/     \u001b[1m\u001b[34mrad_edits\u001b[m\u001b[m/\r\n"
     ]
    }
   ],
   "source": [
    "ls ~/PDSB/12-parallel-genomics/notebooks/pedicularis"
   ]
  },
  {
   "cell_type": "code",
   "execution_count": null,
   "metadata": {},
   "outputs": [],
   "source": []
  }
 ],
 "metadata": {
  "kernelspec": {
   "display_name": "Python 2",
   "language": "python",
   "name": "python2"
  },
  "language_info": {
   "codemirror_mode": {
    "name": "ipython",
    "version": 2
   },
   "file_extension": ".py",
   "mimetype": "text/x-python",
   "name": "python",
   "nbconvert_exporter": "python",
   "pygments_lexer": "ipython2",
   "version": "2.7.14"
  }
 },
 "nbformat": 4,
 "nbformat_minor": 2
}
