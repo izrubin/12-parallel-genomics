{
 "cells": [
  {
   "cell_type": "markdown",
   "metadata": {},
   "source": [
    "### Assignment: assemble an ipyrad example data set\n",
    "\n",
    "Follow the instructions here: http://ipyrad.readthedocs.io/API_user-guide.html to assemble a dataset using the ipyrad API. You will need to download the dataset as instructed below. This dataset is different from the one in the linked tutorial. Be sure to download the data into your scratch space, and to set the project directory for you ipyrad analysis to your scratch directory. You can use any of the datasets in the downloaded directory. Read the ipyrad docs if you have questions and/or hit up the gitter chatroom. \n",
    "\n",
    "** When finished copy this notebook to your assignments/ dir, push it, and make a pull request**. "
   ]
  },
  {
   "cell_type": "code",
   "execution_count": 19,
   "metadata": {},
   "outputs": [
    {
     "name": "stdout",
     "output_type": "stream",
     "text": [
      "0.7.23\n"
     ]
    }
   ],
   "source": [
    "import ipyrad as ip\n",
    "import ipyparallel as ipp\n",
    "## Print the version\n",
    "print ip.__version__"
   ]
  },
  {
   "cell_type": "markdown",
   "metadata": {},
   "source": [
    "### Download the data\n",
    "You will probably want to move the data to your scratch directory. You can run this code here to download it, or from a terminal. "
   ]
  },
  {
   "cell_type": "code",
   "execution_count": 37,
   "metadata": {
    "scrolled": true
   },
   "outputs": [
    {
     "name": "stderr",
     "output_type": "stream",
     "text": [
      "  % Total    % Received % Xferd  Average Speed   Time    Time     Time  Current\n",
      "                                 Dload  Upload   Total   Spent    Left  Speed\n",
      "\r",
      "  0     0    0     0    0     0      0      0 --:--:-- --:--:-- --:--:--     0\r",
      "100   147  100   147    0     0    583      0 --:--:-- --:--:-- --:--:--   583\n",
      "\r",
      "  8 11.8M    8 1072k    0     0  1431k      0  0:00:08 --:--:--  0:00:08 1431k\r",
      " 94 11.8M   94 11.1M    0     0  6550k      0  0:00:01  0:00:01 --:--:-- 10.1M\r",
      "100 11.8M  100 11.8M    0     0  6708k      0  0:00:01  0:00:01 --:--:-- 10.1M\n",
      "x ./ipsimdata/\n",
      "x ./ipsimdata/pairgbs_example_R2_.fastq.gz\n",
      "x ./ipsimdata/pairgbs_wmerge_example_barcodes.txt\n",
      "x ./ipsimdata/rad_example_genome.fa\n",
      "x ./ipsimdata/pairddrad_example_genome.fa\n",
      "x ./ipsimdata/pairgbs_example_R1_.fastq.gz\n",
      "x ./ipsimdata/pairgbs_wmerge_example_R2_.fastq.gz\n",
      "x ./ipsimdata/rad_example_genome.fa.fai\n",
      "x ./ipsimdata/pairddrad_example_R2_.fastq.gz\n",
      "x ./ipsimdata/pairddrad_example_genome.fa.sma\n",
      "x ./ipsimdata/pairddrad_example_genome.fa.fai\n",
      "x ./ipsimdata/pairgbs_wmerge_example_genome.fa\n",
      "x ./ipsimdata/pairddrad_wmerge_example_genome.fa\n",
      "x ./ipsimdata/pairddrad_example_genome.fa.smi\n",
      "x ./ipsimdata/pairgbs_wmerge_example_R1_.fastq.gz\n",
      "x ./ipsimdata/rad_example_genome.fa.smi\n",
      "x ./ipsimdata/gbs_example_barcodes.txt\n",
      "x ./ipsimdata/pairgbs_example_barcodes.txt\n",
      "x ./ipsimdata/pairddrad_example_R1_.fastq.gz\n",
      "x ./ipsimdata/pairddrad_wmerge_example_barcodes.txt\n",
      "x ./ipsimdata/rad_example_barcodes.txt\n",
      "x ./ipsimdata/pairddrad_wmerge_example_R1_.fastq.gz\n",
      "x ./ipsimdata/pairddrad_wmerge_example_R2_.fastq.gz\n",
      "x ./ipsimdata/gbs_example_R1_.fastq.gz\n",
      "x ./ipsimdata/pairddrad_example_barcodes.txt\n",
      "x ./ipsimdata/rad_example_genome.fa.sma\n",
      "x ./ipsimdata/rad_example_R1_.fastq.gz\n",
      "x ./ipsimdata/gbs_example_genome.fa\n"
     ]
    }
   ],
   "source": [
    "%%bash\n",
    "## The curl command needs a capital O, not a zero\n",
    "curl -LkO https://github.com/dereneaton/ipyrad/raw/master/tests/ipsimdata.tar.gz\n",
    "tar -xvzf ipsimdata.tar.gz"
   ]
  },
  {
   "cell_type": "code",
   "execution_count": 2,
   "metadata": {},
   "outputs": [
    {
     "name": "stdout",
     "output_type": "stream",
     "text": [
      "gbs_example_R1_.fastq.gz               pairgbs_example_R1_.fastq.gz\r\n",
      "gbs_example_barcodes.txt               pairgbs_example_R2_.fastq.gz\r\n",
      "gbs_example_genome.fa                  pairgbs_example_barcodes.txt\r\n",
      "pairddrad_example_R1_.fastq.gz         pairgbs_wmerge_example_R1_.fastq.gz\r\n",
      "pairddrad_example_R2_.fastq.gz         pairgbs_wmerge_example_R2_.fastq.gz\r\n",
      "pairddrad_example_barcodes.txt         pairgbs_wmerge_example_barcodes.txt\r\n",
      "pairddrad_example_genome.fa            pairgbs_wmerge_example_genome.fa\r\n",
      "pairddrad_example_genome.fa.fai        rad_example_R1_.fastq.gz\r\n",
      "pairddrad_example_genome.fa.sma        rad_example_barcodes.txt\r\n",
      "pairddrad_example_genome.fa.smi        rad_example_genome.fa\r\n",
      "pairddrad_wmerge_example_R1_.fastq.gz  rad_example_genome.fa.fai\r\n",
      "pairddrad_wmerge_example_R2_.fastq.gz  rad_example_genome.fa.sma\r\n",
      "pairddrad_wmerge_example_barcodes.txt  rad_example_genome.fa.smi\r\n",
      "pairddrad_wmerge_example_genome.fa\r\n"
     ]
    }
   ],
   "source": [
    "ls ipsimdata/"
   ]
  },
  {
   "cell_type": "markdown",
   "metadata": {},
   "source": [
    "### Connect to an ipcluster instance"
   ]
  },
  {
   "cell_type": "code",
   "execution_count": 50,
   "metadata": {},
   "outputs": [],
   "source": [
    "# If on your own machine - open new terminal : \n",
    "# ipcluster start --n=4"
   ]
  },
  {
   "cell_type": "markdown",
   "metadata": {},
   "source": [
    "### Assembly the dataset from step 1 to step 7"
   ]
  },
  {
   "cell_type": "markdown",
   "metadata": {},
   "source": [
    "Create an Assembly object"
   ]
  },
  {
   "cell_type": "code",
   "execution_count": 4,
   "metadata": {},
   "outputs": [
    {
     "name": "stdout",
     "output_type": "stream",
     "text": [
      "New Assembly: ipsimdata\n"
     ]
    }
   ],
   "source": [
    "ipsimdata = ip.Assembly(\"ipsimdata\")"
   ]
  },
  {
   "cell_type": "markdown",
   "metadata": {},
   "source": [
    "Setting/modifying parameters for this Assembly object"
   ]
  },
  {
   "cell_type": "code",
   "execution_count": 5,
   "metadata": {},
   "outputs": [
    {
     "name": "stdout",
     "output_type": "stream",
     "text": [
      "0   assembly_name               ipsimdata                                    \n",
      "1   project_dir                 ./pedicularis                                \n",
      "2   raw_fastq_path              ./ipsimdata/rad_example_R1_.fastq.gz         \n",
      "3   barcodes_path               ./ipsimdata/rad_example_barcodes.txt         \n",
      "4   sorted_fastq_path                                                        \n",
      "5   assembly_method             denovo                                       \n",
      "6   reference_sequence                                                       \n",
      "7   datatype                    rad                                          \n",
      "8   restriction_overhang        ('TGCAG', '')                                \n",
      "9   max_low_qual_bases          5                                            \n",
      "10  phred_Qscore_offset         33                                           \n",
      "11  mindepth_statistical        6                                            \n",
      "12  mindepth_majrule            6                                            \n",
      "13  maxdepth                    10000                                        \n",
      "14  clust_threshold             0.85                                         \n",
      "15  max_barcode_mismatch        0                                            \n",
      "16  filter_adapters             2                                            \n",
      "17  filter_min_trim_len         35                                           \n",
      "18  max_alleles_consens         2                                            \n",
      "19  max_Ns_consens              (5, 5)                                       \n",
      "20  max_Hs_consens              (8, 8)                                       \n",
      "21  min_samples_locus           4                                            \n",
      "22  max_SNPs_locus              (20, 20)                                     \n",
      "23  max_Indels_locus            (8, 8)                                       \n",
      "24  max_shared_Hs_locus         0.5                                          \n",
      "25  trim_reads                  (0, 0, 0, 0)                                 \n",
      "26  trim_loci                   (0, 0, 0, 0)                                 \n",
      "27  output_formats              ['p', 's', 'v']                              \n",
      "28  pop_assign_file                                                          \n"
     ]
    }
   ],
   "source": [
    "ipsimdata.set_params('project_dir', \"pedicularis\")\n",
    "ipsimdata.set_params('filter_adapters', 2)\n",
    "ipsimdata.set_params('datatype', 'rad')\n",
    "ipsimdata.set_params('barcodes_path', \"./ipsimdata/rad_example_barcodes.txt\")\n",
    "ipsimdata.set_params('raw_fastq_path', \"./ipsimdata/rad_example_R1_.fastq.gz\")\n",
    "\n",
    "# I am using the raw fastq reads so I didn't fill in the directory for the demultiplexed reads which would fill in 'sorted_fastq_path'\n",
    "\n",
    "# Print the parameters to the screen\n",
    "ipsimdata.get_params()"
   ]
  },
  {
   "cell_type": "code",
   "execution_count": 6,
   "metadata": {},
   "outputs": [
    {
     "ename": "IPyradError",
     "evalue": "    Error setting parameter 'clust_threshold'\n    clust_threshold must be a decimal value between 0 and 1.\n    You entered: 2.0\n    ",
     "output_type": "error",
     "traceback": [
      "\u001b[0;31m---------------------------------------------------------------------------\u001b[0m",
      "\u001b[0;31mIPyradError\u001b[0m                               Traceback (most recent call last)",
      "\u001b[0;32m<ipython-input-6-2ea6f820cdd9>\u001b[0m in \u001b[0;36m<module>\u001b[0;34m()\u001b[0m\n\u001b[1;32m      2\u001b[0m \u001b[0;34m\u001b[0m\u001b[0m\n\u001b[1;32m      3\u001b[0m \u001b[0;31m## Ie. parameter cannot be 2.0\u001b[0m\u001b[0;34m\u001b[0m\u001b[0;34m\u001b[0m\u001b[0m\n\u001b[0;32m----> 4\u001b[0;31m \u001b[0mipsimdata\u001b[0m\u001b[0;34m.\u001b[0m\u001b[0mset_params\u001b[0m\u001b[0;34m(\u001b[0m\u001b[0;34m\"clust_threshold\"\u001b[0m\u001b[0;34m,\u001b[0m \u001b[0;36m2.0\u001b[0m\u001b[0;34m)\u001b[0m\u001b[0;34m\u001b[0m\u001b[0m\n\u001b[0m",
      "\u001b[0;32m/Users/meredithvanacker/miniconda/lib/python2.7/site-packages/ipyrad/core/assembly.pyc\u001b[0m in \u001b[0;36mset_params\u001b[0;34m(self, param, newvalue)\u001b[0m\n\u001b[1;32m    810\u001b[0m         \u001b[0;32mexcept\u001b[0m \u001b[0mException\u001b[0m \u001b[0;32mas\u001b[0m \u001b[0minst\u001b[0m\u001b[0;34m:\u001b[0m\u001b[0;34m\u001b[0m\u001b[0m\n\u001b[1;32m    811\u001b[0m             raise IPyradWarningExit(BAD_PARAMETER\\\n\u001b[0;32m--> 812\u001b[0;31m                                     .format(param, inst, newvalue))\n\u001b[0m\u001b[1;32m    813\u001b[0m \u001b[0;34m\u001b[0m\u001b[0m\n\u001b[1;32m    814\u001b[0m \u001b[0;34m\u001b[0m\u001b[0m\n",
      "\u001b[0;32m/Users/meredithvanacker/miniconda/lib/python2.7/site-packages/ipyrad/assemble/util.pyc\u001b[0m in \u001b[0;36m__init__\u001b[0;34m(self, *args, **kwargs)\u001b[0m\n\u001b[1;32m     50\u001b[0m     \u001b[0;32mdef\u001b[0m \u001b[0m__init__\u001b[0m\u001b[0;34m(\u001b[0m\u001b[0mself\u001b[0m\u001b[0;34m,\u001b[0m \u001b[0;34m*\u001b[0m\u001b[0margs\u001b[0m\u001b[0;34m,\u001b[0m \u001b[0;34m**\u001b[0m\u001b[0mkwargs\u001b[0m\u001b[0;34m)\u001b[0m\u001b[0;34m:\u001b[0m\u001b[0;34m\u001b[0m\u001b[0m\n\u001b[1;32m     51\u001b[0m         \u001b[0;32mif\u001b[0m \u001b[0mipyrad\u001b[0m\u001b[0;34m.\u001b[0m\u001b[0m__interactive__\u001b[0m\u001b[0;34m:\u001b[0m\u001b[0;34m\u001b[0m\u001b[0m\n\u001b[0;32m---> 52\u001b[0;31m             \u001b[0;32mraise\u001b[0m \u001b[0mIPyradError\u001b[0m\u001b[0;34m(\u001b[0m\u001b[0;34m*\u001b[0m\u001b[0margs\u001b[0m\u001b[0;34m,\u001b[0m \u001b[0;34m**\u001b[0m\u001b[0mkwargs\u001b[0m\u001b[0;34m)\u001b[0m\u001b[0;34m\u001b[0m\u001b[0m\n\u001b[0m\u001b[1;32m     53\u001b[0m         \u001b[0;32melse\u001b[0m\u001b[0;34m:\u001b[0m\u001b[0;34m\u001b[0m\u001b[0m\n\u001b[1;32m     54\u001b[0m             \u001b[0mSystemExit\u001b[0m\u001b[0;34m.\u001b[0m\u001b[0m__init__\u001b[0m\u001b[0;34m(\u001b[0m\u001b[0mself\u001b[0m\u001b[0;34m,\u001b[0m \u001b[0;34m*\u001b[0m\u001b[0margs\u001b[0m\u001b[0;34m,\u001b[0m \u001b[0;34m**\u001b[0m\u001b[0mkwargs\u001b[0m\u001b[0;34m)\u001b[0m\u001b[0;34m\u001b[0m\u001b[0m\n",
      "\u001b[0;31mIPyradError\u001b[0m:     Error setting parameter 'clust_threshold'\n    clust_threshold must be a decimal value between 0 and 1.\n    You entered: 2.0\n    "
     ]
    }
   ],
   "source": [
    "# Can check Parameter Settings\n",
    "\n",
    "## Ie. parameter cannot be 2.0\n",
    "ipsimdata.set_params(\"clust_threshold\", 2.0)"
   ]
  },
  {
   "cell_type": "code",
   "execution_count": 7,
   "metadata": {},
   "outputs": [
    {
     "name": "stdout",
     "output_type": "stream",
     "text": [
      "fastqs : \n",
      "edits : \n",
      "clusts : \n",
      "consens : \n",
      "outfiles : \n",
      "\n"
     ]
    }
   ],
   "source": [
    "# Can exploring attributes\n",
    "print ipsimdata.dirs"
   ]
  },
  {
   "cell_type": "markdown",
   "metadata": {},
   "source": [
    "### Run Step 1 to create Samples objects:\n",
    "\n",
    "If you rerun a step - this will be skipped and data will not be overwritten unless using force = True."
   ]
  },
  {
   "cell_type": "code",
   "execution_count": 8,
   "metadata": {},
   "outputs": [
    {
     "name": "stdout",
     "output_type": "stream",
     "text": [
      "Assembly: ipsimdata\n",
      "[####################] 100%  sorting reads         | 0:00:05 | s1 | \n",
      "[####################] 100%  writing/compressing   | 0:00:02 | s1 | \n"
     ]
    }
   ],
   "source": [
    "# This sorted the reads because the data file was not yet demultiplexed\n",
    "ipsimdata.run(\"1\")"
   ]
  },
  {
   "cell_type": "code",
   "execution_count": 9,
   "metadata": {},
   "outputs": [
    {
     "data": {
      "text/plain": [
       "{'1A_0': <ipyrad.core.sample.Sample at 0x10b821810>,\n",
       " '1B_0': <ipyrad.core.sample.Sample at 0x10b805290>,\n",
       " '1C_0': <ipyrad.core.sample.Sample at 0x10b821450>,\n",
       " '1D_0': <ipyrad.core.sample.Sample at 0x10b80e510>,\n",
       " '2E_0': <ipyrad.core.sample.Sample at 0x10b821050>,\n",
       " '2F_0': <ipyrad.core.sample.Sample at 0x10b821fd0>,\n",
       " '2G_0': <ipyrad.core.sample.Sample at 0x10b821bd0>,\n",
       " '2H_0': <ipyrad.core.sample.Sample at 0x10b7adb50>,\n",
       " '3I_0': <ipyrad.core.sample.Sample at 0x10b80e110>,\n",
       " '3J_0': <ipyrad.core.sample.Sample at 0x10b80ec50>,\n",
       " '3K_0': <ipyrad.core.sample.Sample at 0x10b805b10>,\n",
       " '3L_0': <ipyrad.core.sample.Sample at 0x10b821f90>}"
      ]
     },
     "execution_count": 9,
     "metadata": {},
     "output_type": "execute_result"
    }
   ],
   "source": [
    "# keys are Sample names and the values of the dictionary are the Sample objects\n",
    "ipsimdata.samples"
   ]
  },
  {
   "cell_type": "code",
   "execution_count": 10,
   "metadata": {},
   "outputs": [
    {
     "name": "stdout",
     "output_type": "stream",
     "text": [
      "      state  reads_raw\n",
      "1A_0      1      19862\n",
      "1B_0      1      20043\n",
      "1C_0      1      20136\n",
      "1D_0      1      19966\n",
      "2E_0      1      20017\n",
      "2F_0      1      19933\n",
      "2G_0      1      20030\n",
      "2H_0      1      20199\n",
      "3I_0      1      19885\n",
      "3J_0      1      19822\n",
      "3K_0      1      19965\n",
      "3L_0      1      20008\n"
     ]
    }
   ],
   "source": [
    "print ipsimdata.stats"
   ]
  },
  {
   "cell_type": "markdown",
   "metadata": {},
   "source": [
    "### Run Step 2: Filter reads"
   ]
  },
  {
   "cell_type": "code",
   "execution_count": 11,
   "metadata": {},
   "outputs": [
    {
     "name": "stdout",
     "output_type": "stream",
     "text": [
      "Assembly: ipsimdata\n",
      "[####################] 100%  processing reads      | 0:00:07 | s2 | \n"
     ]
    }
   ],
   "source": [
    "ipsimdata.run(\"2\")"
   ]
  },
  {
   "cell_type": "code",
   "execution_count": 12,
   "metadata": {},
   "outputs": [
    {
     "name": "stdout",
     "output_type": "stream",
     "text": [
      "      reads_raw  trim_adapter_bp_read1  trim_quality_bp_read1  \\\n",
      "1A_0      19862                    360                      0   \n",
      "1B_0      20043                    362                      0   \n",
      "1C_0      20136                    349                      0   \n",
      "1D_0      19966                    404                      0   \n",
      "2E_0      20017                    394                      0   \n",
      "2F_0      19933                    376                      0   \n",
      "2G_0      20030                    381                      0   \n",
      "2H_0      20199                    386                      0   \n",
      "3I_0      19885                    372                      0   \n",
      "3J_0      19822                    381                      0   \n",
      "3K_0      19965                    382                      0   \n",
      "3L_0      20008                    424                      0   \n",
      "\n",
      "      reads_filtered_by_Ns  reads_filtered_by_minlen  reads_passed_filter  \n",
      "1A_0                     0                         0                19862  \n",
      "1B_0                     0                         0                20043  \n",
      "1C_0                     0                         0                20136  \n",
      "1D_0                     0                         0                19966  \n",
      "2E_0                     0                         0                20017  \n",
      "2F_0                     0                         0                19933  \n",
      "2G_0                     0                         0                20030  \n",
      "2H_0                     0                         1                20198  \n",
      "3I_0                     0                         0                19885  \n",
      "3J_0                     0                         0                19822  \n",
      "3K_0                     0                         0                19965  \n",
      "3L_0                     0                         0                20008  \n"
     ]
    }
   ],
   "source": [
    "# show results from step 2\n",
    "print ipsimdata.stats_dfs.s2"
   ]
  },
  {
   "cell_type": "markdown",
   "metadata": {},
   "source": [
    "### Run Steps 3-6\n",
    "* Step 3: Clustering Within Reads \n",
    "\n",
    "* Step 4: Joint estimation of heterozygosity and error rate\n",
    "\n",
    "* Step 5: Consensus base calls\n",
    "\n",
    "* Step 6: Cluster across samples"
   ]
  },
  {
   "cell_type": "code",
   "execution_count": 13,
   "metadata": {},
   "outputs": [
    {
     "name": "stdout",
     "output_type": "stream",
     "text": [
      "Assembly: ipsimdata\n",
      "[####################] 100%  dereplicating         | 0:00:00 | s3 | \n",
      "[####################] 100%  clustering            | 0:00:01 | s3 | \n",
      "[####################] 100%  building clusters     | 0:00:00 | s3 | \n",
      "[####################] 100%  chunking              | 0:00:00 | s3 | \n",
      "[####################] 100%  aligning              | 0:00:34 | s3 | \n",
      "[####################] 100%  concatenating         | 0:00:00 | s3 | \n",
      "[####################] 100%  inferring [H, E]      | 0:00:04 | s4 | \n",
      "[####################] 100%  calculating depths    | 0:00:00 | s5 | \n",
      "[####################] 100%  chunking clusters     | 0:00:00 | s5 | \n",
      "[####################] 100%  consens calling       | 0:00:20 | s5 | \n",
      "[####################] 100%  concat/shuffle input  | 0:00:00 | s6 | \n",
      "[####################] 100%  clustering across     | 0:00:04 | s6 | \n",
      "[####################] 100%  building clusters     | 0:00:00 | s6 | \n",
      "[####################] 100%  aligning clusters     | 0:00:07 | s6 | \n",
      "[####################] 100%  database indels       | 0:00:00 | s6 | \n",
      "[####################] 100%  indexing clusters     | 0:00:02 | s6 | \n",
      "[####################] 100%  building database     | 0:00:00 | s6 | \n"
     ]
    }
   ],
   "source": [
    "ipsimdata.run(\"3456\")"
   ]
  },
  {
   "cell_type": "code",
   "execution_count": 14,
   "metadata": {},
   "outputs": [
    {
     "name": "stdout",
     "output_type": "stream",
     "text": [
      "      state  reads_raw  reads_passed_filter  clusters_total  clusters_hidepth  \\\n",
      "1A_0      6      19862                19862            1000              1000   \n",
      "1B_0      6      20043                20043            1000              1000   \n",
      "1C_0      6      20136                20136            1000              1000   \n",
      "1D_0      6      19966                19966            1000              1000   \n",
      "2E_0      6      20017                20017            1000              1000   \n",
      "2F_0      6      19933                19933            1000              1000   \n",
      "2G_0      6      20030                20030            1000              1000   \n",
      "2H_0      6      20199                20198            1000              1000   \n",
      "3I_0      6      19885                19885            1000              1000   \n",
      "3J_0      6      19822                19822            1000              1000   \n",
      "3K_0      6      19965                19965            1000              1000   \n",
      "3L_0      6      20008                20008            1000              1000   \n",
      "\n",
      "      hetero_est  error_est  reads_consens  \n",
      "1A_0    0.001852   0.000758           1000  \n",
      "1B_0    0.001900   0.000752           1000  \n",
      "1C_0    0.002084   0.000745           1000  \n",
      "1D_0    0.001803   0.000754           1000  \n",
      "2E_0    0.001831   0.000765           1000  \n",
      "2F_0    0.001996   0.000755           1000  \n",
      "2G_0    0.001940   0.000763           1000  \n",
      "2H_0    0.001747   0.000756           1000  \n",
      "3I_0    0.001818   0.000755           1000  \n",
      "3J_0    0.001968   0.000783           1000  \n",
      "3K_0    0.002072   0.000760           1000  \n",
      "3L_0    0.002042   0.000748           1000  \n"
     ]
    }
   ],
   "source": [
    "print ipsimdata.stats"
   ]
  },
  {
   "cell_type": "markdown",
   "metadata": {},
   "source": [
    "### Step 7: Filter and write output files"
   ]
  },
  {
   "cell_type": "code",
   "execution_count": 15,
   "metadata": {},
   "outputs": [
    {
     "name": "stdout",
     "output_type": "stream",
     "text": [
      "Assembly: ipsimdata\n",
      "[####################] 100%  filtering loci        | 0:00:10 | s7 | \n",
      "[####################] 100%  building loci/stats   | 0:00:00 | s7 | \n",
      "[####################] 100%  building vcf file     | 0:00:05 | s7 | \n",
      "[####################] 100%  writing vcf file      | 0:00:00 | s7 | \n",
      "[####################] 100%  building arrays       | 0:00:00 | s7 | \n",
      "[####################] 100%  writing outfiles      | 0:00:00 | s7 | \n",
      "Outfiles written to: ~/PDSB/hw12/12-parallel-genomics/notebooks/pedicularis/ipsimdata_outfiles\n",
      "\n"
     ]
    }
   ],
   "source": [
    "ipsimdata.run(\"7\") "
   ]
  },
  {
   "cell_type": "markdown",
   "metadata": {},
   "source": [
    "### Save assembly object "
   ]
  },
  {
   "cell_type": "code",
   "execution_count": 16,
   "metadata": {},
   "outputs": [],
   "source": [
    "##also auto-saves after every run() command\n",
    "ipsimdata.save()"
   ]
  },
  {
   "cell_type": "code",
   "execution_count": 21,
   "metadata": {},
   "outputs": [
    {
     "name": "stdout",
     "output_type": "stream",
     "text": [
      "loading Assembly: ipsimdata\n",
      "from saved path: ~/PDSB/hw12/12-parallel-genomics/notebooks/pedicularis/ipsimdata.json\n"
     ]
    }
   ],
   "source": [
    "## load assembly object\n",
    "ipsimdata = ip.load_json(\"pedicularis/ipsimdata.json\")"
   ]
  },
  {
   "cell_type": "markdown",
   "metadata": {},
   "source": [
    "### Print the final assembly stats"
   ]
  },
  {
   "cell_type": "code",
   "execution_count": 17,
   "metadata": {},
   "outputs": [
    {
     "name": "stdout",
     "output_type": "stream",
     "text": [
      "      state  reads_raw  reads_passed_filter  clusters_total  clusters_hidepth  \\\n",
      "1A_0      6      19862                19862            1000              1000   \n",
      "1B_0      6      20043                20043            1000              1000   \n",
      "1C_0      6      20136                20136            1000              1000   \n",
      "1D_0      6      19966                19966            1000              1000   \n",
      "2E_0      6      20017                20017            1000              1000   \n",
      "2F_0      6      19933                19933            1000              1000   \n",
      "2G_0      6      20030                20030            1000              1000   \n",
      "2H_0      6      20199                20198            1000              1000   \n",
      "3I_0      6      19885                19885            1000              1000   \n",
      "3J_0      6      19822                19822            1000              1000   \n",
      "3K_0      6      19965                19965            1000              1000   \n",
      "3L_0      6      20008                20008            1000              1000   \n",
      "\n",
      "      hetero_est  error_est  reads_consens  \n",
      "1A_0    0.001852   0.000758           1000  \n",
      "1B_0    0.001900   0.000752           1000  \n",
      "1C_0    0.002084   0.000745           1000  \n",
      "1D_0    0.001803   0.000754           1000  \n",
      "2E_0    0.001831   0.000765           1000  \n",
      "2F_0    0.001996   0.000755           1000  \n",
      "2G_0    0.001940   0.000763           1000  \n",
      "2H_0    0.001747   0.000756           1000  \n",
      "3I_0    0.001818   0.000755           1000  \n",
      "3J_0    0.001968   0.000783           1000  \n",
      "3K_0    0.002072   0.000760           1000  \n",
      "3L_0    0.002042   0.000748           1000  \n"
     ]
    }
   ],
   "source": [
    "print ipsimdata.stats"
   ]
  },
  {
   "cell_type": "markdown",
   "metadata": {},
   "source": [
    "### Show the location of your assembled output files"
   ]
  },
  {
   "cell_type": "code",
   "execution_count": 22,
   "metadata": {},
   "outputs": [
    {
     "name": "stdout",
     "output_type": "stream",
     "text": [
      "alleles : /Users/meredithvanacker/PDSB/hw12/12-parallel-genomics/notebooks/pedicularis/ipsimdata_outfiles/ipsimdata.alleles.loci\n",
      "loci : /Users/meredithvanacker/PDSB/hw12/12-parallel-genomics/notebooks/pedicularis/ipsimdata_outfiles/ipsimdata.loci\n",
      "phy : /Users/meredithvanacker/PDSB/hw12/12-parallel-genomics/notebooks/pedicularis/ipsimdata_outfiles/ipsimdata.phy\n",
      "snpsmap : /Users/meredithvanacker/PDSB/hw12/12-parallel-genomics/notebooks/pedicularis/ipsimdata_outfiles/ipsimdata.snps.map\n",
      "snpsphy : /Users/meredithvanacker/PDSB/hw12/12-parallel-genomics/notebooks/pedicularis/ipsimdata_outfiles/ipsimdata.snps.phy\n",
      "vcf : /Users/meredithvanacker/PDSB/hw12/12-parallel-genomics/notebooks/pedicularis/ipsimdata_outfiles/ipsimdata.vcf\n",
      "\n"
     ]
    }
   ],
   "source": [
    "print ipsimdata.outfiles"
   ]
  }
 ],
 "metadata": {
  "kernelspec": {
   "display_name": "Python 2",
   "language": "python",
   "name": "python2"
  },
  "language_info": {
   "codemirror_mode": {
    "name": "ipython",
    "version": 2
   },
   "file_extension": ".py",
   "mimetype": "text/x-python",
   "name": "python",
   "nbconvert_exporter": "python",
   "pygments_lexer": "ipython2",
   "version": "2.7.14"
  }
 },
 "nbformat": 4,
 "nbformat_minor": 2
}
