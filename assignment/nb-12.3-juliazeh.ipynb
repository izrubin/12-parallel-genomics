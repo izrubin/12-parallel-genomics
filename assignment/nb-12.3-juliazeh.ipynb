{
 "cells": [
  {
   "cell_type": "markdown",
   "metadata": {},
   "source": [
    "### Assignment: assemble an ipyrad example data set\n",
    "\n",
    "Follow the instructions here: http://ipyrad.readthedocs.io/API_user-guide.html to assemble a dataset using the ipyrad API. You will need to download the dataset as instructed below. This dataset is different from the one in the linked tutorial. Be sure to download the data into your scratch space, and to set the project directory for you ipyrad analysis to your scratch directory. You can use any of the datasets in the downloaded directory. Read the ipyrad docs if you have questions and/or hit up the gitter chatroom. \n",
    "\n",
    "** When finished copy this notebook to your assignments/ dir, push it, and make a pull request**. "
   ]
  },
  {
   "cell_type": "code",
   "execution_count": 1,
   "metadata": {},
   "outputs": [
    {
     "name": "stderr",
     "output_type": "stream",
     "text": [
      "/rigel/home/jmz2134/miniconda3/envs/py2env/lib/python2.7/site-packages/h5py/__init__.py:36: FutureWarning: Conversion of the second argument of issubdtype from `float` to `np.floating` is deprecated. In future, it will be treated as `np.float64 == np.dtype(float).type`.\n",
      "  from ._conv import register_converters as _register_converters\n"
     ]
    }
   ],
   "source": [
    "import ipyrad as ip\n",
    "import ipyrad.analysis as ipa\n",
    "import ipyparallel as ipp\n",
    "import toyplot\n",
    "import toytree"
   ]
  },
  {
   "cell_type": "markdown",
   "metadata": {},
   "source": [
    "### Download the data\n",
    "You will probably want to move the data to your scratch directory. You can run this code here to download it, or from a terminal. "
   ]
  },
  {
   "cell_type": "code",
   "execution_count": 5,
   "metadata": {
    "scrolled": true
   },
   "outputs": [
    {
     "name": "stdout",
     "output_type": "stream",
     "text": [
      "./ipsimdata/\n",
      "./ipsimdata/pairgbs_example_R2_.fastq.gz\n",
      "./ipsimdata/pairgbs_wmerge_example_barcodes.txt\n",
      "./ipsimdata/rad_example_genome.fa\n",
      "./ipsimdata/pairddrad_example_genome.fa\n",
      "./ipsimdata/pairgbs_example_R1_.fastq.gz\n",
      "./ipsimdata/pairgbs_wmerge_example_R2_.fastq.gz\n",
      "./ipsimdata/rad_example_genome.fa.fai\n",
      "./ipsimdata/pairddrad_example_R2_.fastq.gz\n",
      "./ipsimdata/pairddrad_example_genome.fa.sma\n",
      "./ipsimdata/pairddrad_example_genome.fa.fai\n",
      "./ipsimdata/pairgbs_wmerge_example_genome.fa\n",
      "./ipsimdata/pairddrad_wmerge_example_genome.fa\n",
      "./ipsimdata/pairddrad_example_genome.fa.smi\n",
      "./ipsimdata/pairgbs_wmerge_example_R1_.fastq.gz\n",
      "./ipsimdata/rad_example_genome.fa.smi\n",
      "./ipsimdata/gbs_example_barcodes.txt\n",
      "./ipsimdata/pairgbs_example_barcodes.txt\n",
      "./ipsimdata/pairddrad_example_R1_.fastq.gz\n",
      "./ipsimdata/pairddrad_wmerge_example_barcodes.txt\n",
      "./ipsimdata/rad_example_barcodes.txt\n",
      "./ipsimdata/pairddrad_wmerge_example_R1_.fastq.gz\n",
      "./ipsimdata/pairddrad_wmerge_example_R2_.fastq.gz\n",
      "./ipsimdata/gbs_example_R1_.fastq.gz\n",
      "./ipsimdata/pairddrad_example_barcodes.txt\n",
      "./ipsimdata/rad_example_genome.fa.sma\n",
      "./ipsimdata/rad_example_R1_.fastq.gz\n",
      "./ipsimdata/gbs_example_genome.fa\n"
     ]
    },
    {
     "name": "stderr",
     "output_type": "stream",
     "text": [
      "  % Total    % Received % Xferd  Average Speed   Time    Time     Time  Current\n",
      "                                 Dload  Upload   Total   Spent    Left  Speed\n",
      "\r",
      "  0     0    0     0    0     0      0      0 --:--:-- --:--:-- --:--:--     0\r",
      "  0     0    0     0    0     0      0      0 --:--:-- --:--:-- --:--:--     0\r",
      "100   147  100   147    0     0   3340      0 --:--:-- --:--:-- --:--:--  3266\n",
      "\r",
      "100 11.8M  100 11.8M    0     0  52.9M      0 --:--:-- --:--:-- --:--:-- 52.9M\n"
     ]
    }
   ],
   "source": [
    "%%bash\n",
    "## The curl command needs a capital O, not a zero\n",
    "curl -LkO https://github.com/dereneaton/ipyrad/raw/master/tests/ipsimdata.tar.gz\n",
    "tar -xvzf ipsimdata.tar.gz"
   ]
  },
  {
   "cell_type": "code",
   "execution_count": 6,
   "metadata": {},
   "outputs": [
    {
     "name": "stdout",
     "output_type": "stream",
     "text": [
      "gbs_example_barcodes.txt               pairgbs_example_barcodes.txt\r\n",
      "gbs_example_genome.fa                  \u001b[0m\u001b[38;5;9mpairgbs_example_R1_.fastq.gz\u001b[0m\r\n",
      "\u001b[38;5;9mgbs_example_R1_.fastq.gz\u001b[0m               \u001b[38;5;9mpairgbs_example_R2_.fastq.gz\u001b[0m\r\n",
      "pairddrad_example_barcodes.txt         pairgbs_wmerge_example_barcodes.txt\r\n",
      "pairddrad_example_genome.fa            pairgbs_wmerge_example_genome.fa\r\n",
      "pairddrad_example_genome.fa.fai        \u001b[38;5;9mpairgbs_wmerge_example_R1_.fastq.gz\u001b[0m\r\n",
      "pairddrad_example_genome.fa.sma        \u001b[38;5;9mpairgbs_wmerge_example_R2_.fastq.gz\u001b[0m\r\n",
      "pairddrad_example_genome.fa.smi        rad_example_barcodes.txt\r\n",
      "\u001b[38;5;9mpairddrad_example_R1_.fastq.gz\u001b[0m         rad_example_genome.fa\r\n",
      "\u001b[38;5;9mpairddrad_example_R2_.fastq.gz\u001b[0m         rad_example_genome.fa.fai\r\n",
      "pairddrad_wmerge_example_barcodes.txt  rad_example_genome.fa.sma\r\n",
      "pairddrad_wmerge_example_genome.fa     rad_example_genome.fa.smi\r\n",
      "\u001b[38;5;9mpairddrad_wmerge_example_R1_.fastq.gz\u001b[0m  \u001b[38;5;9mrad_example_R1_.fastq.gz\u001b[0m\r\n",
      "\u001b[38;5;9mpairddrad_wmerge_example_R2_.fastq.gz\u001b[0m\r\n"
     ]
    }
   ],
   "source": [
    "ls ipsimdata/"
   ]
  },
  {
   "cell_type": "markdown",
   "metadata": {},
   "source": [
    "### Connect to an ipcluster instance"
   ]
  },
  {
   "cell_type": "code",
   "execution_count": null,
   "metadata": {},
   "outputs": [],
   "source": [
    "# after tunneling into jupyter-edu-node.sbatch run this in a terminal:\n",
    "# ipcluster start"
   ]
  },
  {
   "cell_type": "code",
   "execution_count": 40,
   "metadata": {},
   "outputs": [],
   "source": [
    "ipyclient = ipp.Client()"
   ]
  },
  {
   "cell_type": "code",
   "execution_count": 41,
   "metadata": {},
   "outputs": [
    {
     "name": "stdout",
     "output_type": "stream",
     "text": [
      "host compute node: [24 cores] on node302\n"
     ]
    }
   ],
   "source": [
    "# use ipyrad to print cluster info\n",
    "ip.cluster_info(ipyclient)"
   ]
  },
  {
   "cell_type": "markdown",
   "metadata": {},
   "source": [
    "### Assembly the dataset from step 1 to step 7"
   ]
  },
  {
   "cell_type": "code",
   "execution_count": 74,
   "metadata": {},
   "outputs": [
    {
     "name": "stdout",
     "output_type": "stream",
     "text": [
      "New Assembly: ipsim3\n"
     ]
    }
   ],
   "source": [
    "data = ip.Assembly(\"ipsim3\")"
   ]
  },
  {
   "cell_type": "code",
   "execution_count": 75,
   "metadata": {},
   "outputs": [],
   "source": [
    "data.set_params(\"project_dir\", \"/rigel/edu/w4050/users/jmz2134/12-parallel-genomics/notebooks/ipsimdata\")\n",
    "data.set_params(\"sorted_fastq_path\", \"/rigel/edu/w4050/users/jmz2134/12-parallel-genomics/notebooks/ipsimdata/rad*.gz\")\n",
    "data.set_params(\"clust_threshold\", 0.90)\n",
    "data.set_params(\"mindepth_majrule\", 10)\n",
    "data.set_params(\"mindepth_statistical\", 10)\n",
    "data.set_params(\"filter_adapters\", 2)\n",
    "data.set_params(\"output_formats\", \"*\")\n",
    "data.set_params(\"datatype\", \"rad\")"
   ]
  },
  {
   "cell_type": "code",
   "execution_count": 76,
   "metadata": {},
   "outputs": [
    {
     "name": "stdout",
     "output_type": "stream",
     "text": [
      "0   assembly_name               ipsim3                                       \n",
      "1   project_dir                 ./ipsimdata                                  \n",
      "2   raw_fastq_path                                                           \n",
      "3   barcodes_path                                                            \n",
      "4   sorted_fastq_path           ./ipsimdata/rad*.gz                          \n",
      "5   assembly_method             denovo                                       \n",
      "6   reference_sequence                                                       \n",
      "7   datatype                    rad                                          \n",
      "8   restriction_overhang        ('TGCAG', '')                                \n",
      "9   max_low_qual_bases          5                                            \n",
      "10  phred_Qscore_offset         33                                           \n",
      "11  mindepth_statistical        10                                           \n",
      "12  mindepth_majrule            10                                           \n",
      "13  maxdepth                    10000                                        \n",
      "14  clust_threshold             0.9                                          \n",
      "15  max_barcode_mismatch        0                                            \n",
      "16  filter_adapters             2                                            \n",
      "17  filter_min_trim_len         35                                           \n",
      "18  max_alleles_consens         2                                            \n",
      "19  max_Ns_consens              (5, 5)                                       \n",
      "20  max_Hs_consens              (8, 8)                                       \n",
      "21  min_samples_locus           4                                            \n",
      "22  max_SNPs_locus              (20, 20)                                     \n",
      "23  max_Indels_locus            (8, 8)                                       \n",
      "24  max_shared_Hs_locus         0.5                                          \n",
      "25  trim_reads                  (0, 0, 0, 0)                                 \n",
      "26  trim_loci                   (0, 0, 0, 0)                                 \n",
      "27  output_formats              ['G', 'a', 'g', 'k', 'm', 'l', 'n', 'p', 's', 'u', 't', 'v']\n",
      "28  pop_assign_file                                                          \n"
     ]
    }
   ],
   "source": [
    "# print parameter settings for posterity\n",
    "data.get_params()"
   ]
  },
  {
   "cell_type": "code",
   "execution_count": 77,
   "metadata": {},
   "outputs": [
    {
     "name": "stdout",
     "output_type": "stream",
     "text": [
      "host compute node: [24 cores] on node302\n",
      "Assembly: ipsim3\n",
      "[####################] 100%  loading reads         | 0:00:00 | s1 | \n",
      "[####################] 100%  processing reads      | 0:00:05 | s2 | \n"
     ]
    }
   ],
   "source": [
    "data.run(\"12\", ipyclient=ipyclient, show_cluster=True)"
   ]
  },
  {
   "cell_type": "code",
   "execution_count": 78,
   "metadata": {},
   "outputs": [
    {
     "name": "stdout",
     "output_type": "stream",
     "text": [
      "host compute node: [24 cores] on node302\n",
      "Assembly: ipsim3\n",
      "[####################] 100%  dereplicating         | 0:00:00 | s3 | \n",
      "[####################] 100%  clustering            | 0:00:01 | s3 | \n",
      "[####################] 100%  building clusters     | 0:00:00 | s3 | \n",
      "[####################] 100%  chunking              | 0:00:00 | s3 | \n",
      "[####################] 100%  aligning              | 0:00:11 | s3 | \n",
      "[####################] 100%  concatenating         | 0:00:00 | s3 | \n"
     ]
    }
   ],
   "source": [
    "data.run(\"3\", ipyclient=ipyclient, show_cluster=True)"
   ]
  },
  {
   "cell_type": "code",
   "execution_count": 79,
   "metadata": {},
   "outputs": [
    {
     "name": "stdout",
     "output_type": "stream",
     "text": [
      "host compute node: [24 cores] on node302\n",
      "Assembly: ipsim3\n",
      "[####################] 100%  inferring [H, E]      | 0:00:06 | s4 | \n",
      "[####################] 100%  calculating depths    | 0:00:00 | s5 | \n",
      "[####################] 100%  chunking clusters     | 0:00:00 | s5 | \n",
      "[####################] 100%  consens calling       | 0:00:01 | s5 | \n",
      "[####################] 100%  concat/shuffle input  | 0:00:00 | s6 | \n",
      "[####################] 100%  clustering across     | 0:00:00 | s6 | \n",
      "[####################] 100%  building clusters     | 0:00:00 | s6 | \n",
      "[####################] 100%  aligning clusters     | 0:00:00 | s6 | \n",
      "[####################] 100%  database indels       | 0:00:00 | s6 | \n",
      "[####################] 100%  indexing clusters     | 0:00:01 | s6 | \n",
      "[####################] 100%  building database     | 0:00:00 | s6 | \n"
     ]
    }
   ],
   "source": [
    "data.run(\"456\", ipyclient=ipyclient, show_cluster=True)"
   ]
  },
  {
   "cell_type": "code",
   "execution_count": 80,
   "metadata": {},
   "outputs": [],
   "source": [
    "min4 = data.branch(\"min4\")\n",
    "min10 = data.branch(\"min10\")"
   ]
  },
  {
   "cell_type": "code",
   "execution_count": 81,
   "metadata": {},
   "outputs": [],
   "source": [
    "min4.set_params(\"min_samples_locus\", 4)\n",
    "min10.set_params(\"min_samples_locus\", 10)"
   ]
  },
  {
   "cell_type": "code",
   "execution_count": 86,
   "metadata": {},
   "outputs": [
    {
     "name": "stdout",
     "output_type": "stream",
     "text": [
      "Assembly: min4\n",
      "[####################] 100%  filtering loci        | 0:00:03 | s7 | \n",
      "[####################] 100%  building loci/stats   | 0:00:00 | s7 | \n",
      "\n",
      "  Encountered an unexpected error (see ./ipyrad_log.txt)\n",
      "  Error message is below -------------------------------\n",
      "\n",
      "    Exception: empty varcounts array. This could be because no samples \n",
      "    passed filtering, or it could be because you have overzealous filtering.\n",
      "    Check the values for `trim_loci` and make sure you are not trimming the\n",
      "    edge too far\n",
      "    \n"
     ]
    }
   ],
   "source": [
    "min4.run(\"7\")"
   ]
  },
  {
   "cell_type": "code",
   "execution_count": 87,
   "metadata": {},
   "outputs": [
    {
     "name": "stdout",
     "output_type": "stream",
     "text": [
      "Assembly: min10\n",
      "[####################] 100%  filtering loci        | 0:00:03 | s7 | \n",
      "[####################] 100%  building loci/stats   | 0:00:00 | s7 | \n",
      "\n",
      "  Encountered an unexpected error (see ./ipyrad_log.txt)\n",
      "  Error message is below -------------------------------\n",
      "\n",
      "    Exception: empty varcounts array. This could be because no samples \n",
      "    passed filtering, or it could be because you have overzealous filtering.\n",
      "    Check the values for `trim_loci` and make sure you are not trimming the\n",
      "    edge too far\n",
      "    \n"
     ]
    }
   ],
   "source": [
    "min10.run(\"7\")"
   ]
  },
  {
   "cell_type": "markdown",
   "metadata": {},
   "source": [
    "### Print the final assembly stats"
   ]
  },
  {
   "cell_type": "code",
   "execution_count": 88,
   "metadata": {},
   "outputs": [
    {
     "data": {
      "text/html": [
       "<div>\n",
       "<style scoped>\n",
       "    .dataframe tbody tr th:only-of-type {\n",
       "        vertical-align: middle;\n",
       "    }\n",
       "\n",
       "    .dataframe tbody tr th {\n",
       "        vertical-align: top;\n",
       "    }\n",
       "\n",
       "    .dataframe thead th {\n",
       "        text-align: right;\n",
       "    }\n",
       "</style>\n",
       "<table border=\"1\" class=\"dataframe\">\n",
       "  <thead>\n",
       "    <tr style=\"text-align: right;\">\n",
       "      <th></th>\n",
       "      <th>state</th>\n",
       "      <th>reads_raw</th>\n",
       "      <th>reads_passed_filter</th>\n",
       "      <th>clusters_total</th>\n",
       "      <th>clusters_hidepth</th>\n",
       "      <th>hetero_est</th>\n",
       "      <th>error_est</th>\n",
       "      <th>reads_consens</th>\n",
       "    </tr>\n",
       "  </thead>\n",
       "  <tbody>\n",
       "    <tr>\n",
       "      <th>rad_example</th>\n",
       "      <td>6</td>\n",
       "      <td>239866</td>\n",
       "      <td>239866</td>\n",
       "      <td>1579</td>\n",
       "      <td>1217</td>\n",
       "      <td>0.046</td>\n",
       "      <td>0.009</td>\n",
       "      <td>134</td>\n",
       "    </tr>\n",
       "  </tbody>\n",
       "</table>\n",
       "</div>"
      ],
      "text/plain": [
       "             state  reads_raw  reads_passed_filter  clusters_total  \\\n",
       "rad_example      6     239866               239866            1579   \n",
       "\n",
       "             clusters_hidepth  hetero_est  error_est  reads_consens  \n",
       "rad_example              1217       0.046      0.009            134  "
      ]
     },
     "execution_count": 88,
     "metadata": {},
     "output_type": "execute_result"
    }
   ],
   "source": [
    "data.stats"
   ]
  },
  {
   "cell_type": "code",
   "execution_count": 89,
   "metadata": {},
   "outputs": [
    {
     "data": {
      "text/html": [
       "<div>\n",
       "<style scoped>\n",
       "    .dataframe tbody tr th:only-of-type {\n",
       "        vertical-align: middle;\n",
       "    }\n",
       "\n",
       "    .dataframe tbody tr th {\n",
       "        vertical-align: top;\n",
       "    }\n",
       "\n",
       "    .dataframe thead th {\n",
       "        text-align: right;\n",
       "    }\n",
       "</style>\n",
       "<table border=\"1\" class=\"dataframe\">\n",
       "  <thead>\n",
       "    <tr style=\"text-align: right;\">\n",
       "      <th></th>\n",
       "      <th>locus_coverage</th>\n",
       "      <th>sum_coverage</th>\n",
       "    </tr>\n",
       "  </thead>\n",
       "  <tbody>\n",
       "    <tr>\n",
       "      <th>1</th>\n",
       "      <td>0</td>\n",
       "      <td>0</td>\n",
       "    </tr>\n",
       "  </tbody>\n",
       "</table>\n",
       "</div>"
      ],
      "text/plain": [
       "   locus_coverage  sum_coverage\n",
       "1               0             0"
      ]
     },
     "execution_count": 89,
     "metadata": {},
     "output_type": "execute_result"
    }
   ],
   "source": [
    "min4.stats_dfs.s7_loci"
   ]
  },
  {
   "cell_type": "code",
   "execution_count": 90,
   "metadata": {},
   "outputs": [
    {
     "data": {
      "text/html": [
       "<div>\n",
       "<style scoped>\n",
       "    .dataframe tbody tr th:only-of-type {\n",
       "        vertical-align: middle;\n",
       "    }\n",
       "\n",
       "    .dataframe tbody tr th {\n",
       "        vertical-align: top;\n",
       "    }\n",
       "\n",
       "    .dataframe thead th {\n",
       "        text-align: right;\n",
       "    }\n",
       "</style>\n",
       "<table border=\"1\" class=\"dataframe\">\n",
       "  <thead>\n",
       "    <tr style=\"text-align: right;\">\n",
       "      <th></th>\n",
       "      <th>locus_coverage</th>\n",
       "      <th>sum_coverage</th>\n",
       "    </tr>\n",
       "  </thead>\n",
       "  <tbody>\n",
       "    <tr>\n",
       "      <th>1</th>\n",
       "      <td>0</td>\n",
       "      <td>0</td>\n",
       "    </tr>\n",
       "  </tbody>\n",
       "</table>\n",
       "</div>"
      ],
      "text/plain": [
       "   locus_coverage  sum_coverage\n",
       "1               0             0"
      ]
     },
     "execution_count": 90,
     "metadata": {},
     "output_type": "execute_result"
    }
   ],
   "source": [
    "min10.stats_dfs.s7_loci"
   ]
  },
  {
   "cell_type": "markdown",
   "metadata": {},
   "source": [
    "### Show the location of your assembled output files"
   ]
  },
  {
   "cell_type": "code",
   "execution_count": 91,
   "metadata": {},
   "outputs": [
    {
     "data": {
      "text/plain": [
       "alleles : /rigel/edu/w4050/users/jmz2134/12-parallel-genomics/notebooks/ipsimdata/min10_outfiles/min10.alleles.loci\n",
       "loci : /rigel/edu/w4050/users/jmz2134/12-parallel-genomics/notebooks/ipsimdata/min10_outfiles/min10.loci"
      ]
     },
     "execution_count": 91,
     "metadata": {},
     "output_type": "execute_result"
    }
   ],
   "source": [
    "min10.outfiles"
   ]
  },
  {
   "cell_type": "code",
   "execution_count": null,
   "metadata": {},
   "outputs": [],
   "source": []
  }
 ],
 "metadata": {
  "kernelspec": {
   "display_name": "Python 2",
   "language": "python",
   "name": "python2"
  },
  "language_info": {
   "codemirror_mode": {
    "name": "ipython",
    "version": 2
   },
   "file_extension": ".py",
   "mimetype": "text/x-python",
   "name": "python",
   "nbconvert_exporter": "python",
   "pygments_lexer": "ipython2",
   "version": "2.7.14"
  }
 },
 "nbformat": 4,
 "nbformat_minor": 2
}
