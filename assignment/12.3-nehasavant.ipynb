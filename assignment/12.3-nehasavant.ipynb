{
 "cells": [
  {
   "cell_type": "markdown",
   "metadata": {},
   "source": [
    "### Assignment: assemble an ipyrad example data set\n",
    "\n",
    "Follow the instructions here: http://ipyrad.readthedocs.io/API_user-guide.html to assemble a dataset using the ipyrad API. You will need to download the dataset as instructed below. This dataset is different from the one in the linked tutorial. Be sure to download the data into your scratch space, and to set the project directory for you ipyrad analysis to your scratch directory. You can use any of the datasets in the downloaded directory. Read the ipyrad docs if you have questions and/or hit up the gitter chatroom. \n",
    "\n",
    "** When finished copy this notebook to your assignments/ dir, push it, and make a pull request**. "
   ]
  },
  {
   "cell_type": "code",
   "execution_count": 1,
   "metadata": {},
   "outputs": [],
   "source": [
    "%%bash\n",
    "export PATH=/rigel/home/$USER/miniconda3/bin:$PATH"
   ]
  },
  {
   "cell_type": "code",
   "execution_count": 2,
   "metadata": {},
   "outputs": [
    {
     "name": "stderr",
     "output_type": "stream",
     "text": [
      "/rigel/home/ngs2116/miniconda3/envs/py27/lib/python2.7/site-packages/h5py/__init__.py:36: FutureWarning: Conversion of the second argument of issubdtype from `float` to `np.floating` is deprecated. In future, it will be treated as `np.float64 == np.dtype(float).type`.\n",
      "  from ._conv import register_converters as _register_converters\n"
     ]
    }
   ],
   "source": [
    "import ipyrad as ip\n",
    "import ipyparallel as ipp"
   ]
  },
  {
   "cell_type": "markdown",
   "metadata": {},
   "source": [
    "### Download the data\n",
    "You will probably want to move the data to your scratch directory. You can run this code here to download it, or from a terminal. "
   ]
  },
  {
   "cell_type": "code",
   "execution_count": 3,
   "metadata": {
    "scrolled": true
   },
   "outputs": [],
   "source": [
    "%%bash\n",
    "\n",
    "#get into the correct directory where I want to download the data\n",
    "cd /rigel/home/ngs2116/w4050/users/ngs2116\n",
    "\n",
    "## The curl command needs a capital O, not a zero\n",
    "#curl -LkO https://github.com/dereneaton/ipyrad/raw/master/tests/ipsimdata.tar.gz\n",
    "#tar -xvzf ipsimdata.tar.gz\n",
    "#ls ipsimdata/"
   ]
  },
  {
   "cell_type": "markdown",
   "metadata": {},
   "source": [
    "### Connect to an ipcluster instance\n",
    "Make sure to submit an sbatch job to connect to the ipcluster. Here I've named the job \"MPI60\". "
   ]
  },
  {
   "cell_type": "code",
   "execution_count": 4,
   "metadata": {},
   "outputs": [
    {
     "name": "stdout",
     "output_type": "stream",
     "text": [
      "(20, 'cores')\n",
      "host compute node: [20 cores] on node241\n"
     ]
    }
   ],
   "source": [
    "## connect to the client\n",
    "ipyclient = ipp.Client(profile=\"MPI60\")\n",
    "\n",
    "## print how many engines are connected\n",
    "print(len(ipyclient), 'cores')\n",
    "\n",
    "## or, use ipyrad to print cluster info\n",
    "ip.cluster_info(ipyclient)"
   ]
  },
  {
   "cell_type": "markdown",
   "metadata": {},
   "source": [
    "### Assembly the dataset from step 1 to step 7\n",
    "\n",
    "I've chosen to use the pairddrad example dataset. First I need to create an Assembly object and then set the parameters. "
   ]
  },
  {
   "cell_type": "code",
   "execution_count": 19,
   "metadata": {},
   "outputs": [
    {
     "name": "stdout",
     "output_type": "stream",
     "text": [
      "New Assembly: data1\n",
      "0   assembly_name               data1                                        \n",
      "1   project_dir                 /rigel/edu/w4050/users/ngs2116/ipsimdata/pairddrad\n",
      "2   raw_fastq_path              /rigel/edu/w4050/users/ngs2116/ipsimdata/pairddrad/*.gz\n",
      "3   barcodes_path               /rigel/edu/w4050/users/ngs2116/ipsimdata/pairddrad/pairddrad_example_barcodes.txt\n",
      "4   sorted_fastq_path                                                        \n",
      "5   assembly_method             denovo                                       \n",
      "6   reference_sequence                                                       \n",
      "7   datatype                    pairddrad                                    \n",
      "8   restriction_overhang        ('TGCAG', '')                                \n",
      "9   max_low_qual_bases          5                                            \n",
      "10  phred_Qscore_offset         33                                           \n",
      "11  mindepth_statistical        6                                            \n",
      "12  mindepth_majrule            6                                            \n",
      "13  maxdepth                    10000                                        \n",
      "14  clust_threshold             0.85                                         \n",
      "15  max_barcode_mismatch        0                                            \n",
      "16  filter_adapters             2                                            \n",
      "17  filter_min_trim_len         35                                           \n",
      "18  max_alleles_consens         2                                            \n",
      "19  max_Ns_consens              (5, 5)                                       \n",
      "20  max_Hs_consens              (8, 8)                                       \n",
      "21  min_samples_locus           4                                            \n",
      "22  max_SNPs_locus              (20, 20)                                     \n",
      "23  max_Indels_locus            (8, 8)                                       \n",
      "24  max_shared_Hs_locus         0.5                                          \n",
      "25  trim_reads                  (0, 0, 0, 0)                                 \n",
      "26  trim_loci                   (0, 0, 0, 0)                                 \n",
      "27  output_formats              ['p', 's', 'v']                              \n",
      "28  pop_assign_file                                                          \n"
     ]
    }
   ],
   "source": [
    "data2 = ip.Assembly(\"data1\") #First I need to create an object Assembly for the data. \n",
    "\n",
    "## Then I need to set/modify the parameters\n",
    "data2.set_params('project_dir', '/rigel/edu/w4050/users/ngs2116/ipsimdata/pairddrad')\n",
    "data2.set_params('barcodes_path', '/rigel/edu/w4050/users/ngs2116/ipsimdata/pairddrad/pairddrad_example_barcodes.txt')\n",
    "data2.set_params('raw_fastq_path', '/rigel/edu/w4050/users/ngs2116/ipsimdata/pairddrad/*.gz')\n",
    "data2.set_params('datatype', 'pairddrad')\n",
    "data2.set_params('filter_adapters', 2)\n",
    "data2.get_params() # prints the parameters to the screen"
   ]
  },
  {
   "cell_type": "code",
   "execution_count": 21,
   "metadata": {},
   "outputs": [
    {
     "name": "stdout",
     "output_type": "stream",
     "text": [
      "Assembly: data1\n",
      "[####################] 100%  sorting reads         | 0:00:04 | s1 | \n",
      "[####################] 100%  writing/compressing   | 0:00:00 | s1 | \n",
      "[####################] 100%  processing reads      | 0:00:03 | s2 | \n",
      "[####################] 100%  dereplicating         | 0:00:00 | s3 | \n",
      "[####################] 100%  clustering            | 0:00:01 | s3 | \n",
      "[####################] 100%  building clusters     | 0:00:00 | s3 | \n",
      "[####################] 100%  chunking              | 0:00:00 | s3 | \n",
      "[####################] 100%  aligning              | 0:00:10 | s3 | \n",
      "[####################] 100%  concatenating         | 0:00:00 | s3 | \n",
      "[####################] 100%  inferring [H, E]      | 0:00:01 | s4 | \n",
      "[####################] 100%  calculating depths    | 0:00:00 | s5 | \n",
      "[####################] 100%  chunking clusters     | 0:00:00 | s5 | \n",
      "[####################] 100%  consens calling       | 0:00:05 | s5 | \n",
      "\n",
      "  Encountered an unexpected error (see ./ipyrad_log.txt)\n",
      "  Error message is below -------------------------------\n",
      "No such engine: 0\n"
     ]
    },
    {
     "data": {
      "text/plain": [
       "{'1A_0': <ipyrad.core.sample.Sample at 0x2aaaf62fd7d0>,\n",
       " '1B_0': <ipyrad.core.sample.Sample at 0x2aaaf6312690>,\n",
       " '1C_0': <ipyrad.core.sample.Sample at 0x2aaaf62e2e90>,\n",
       " '1D_0': <ipyrad.core.sample.Sample at 0x2aaaf62ec910>,\n",
       " '2E_0': <ipyrad.core.sample.Sample at 0x2aaaf630de90>,\n",
       " '2F_0': <ipyrad.core.sample.Sample at 0x2aaaf6312a50>,\n",
       " '2G_0': <ipyrad.core.sample.Sample at 0x2aaaf635fed0>,\n",
       " '2H_0': <ipyrad.core.sample.Sample at 0x2aaaf62e2a10>,\n",
       " '3I_0': <ipyrad.core.sample.Sample at 0x2aaaf62fde90>,\n",
       " '3J_0': <ipyrad.core.sample.Sample at 0x2aaaf635fe90>,\n",
       " '3K_0': <ipyrad.core.sample.Sample at 0x2aaaf6352d10>,\n",
       " '3L_0': <ipyrad.core.sample.Sample at 0x2aaaf62fd9d0>}"
      ]
     },
     "execution_count": 21,
     "metadata": {},
     "output_type": "execute_result"
    }
   ],
   "source": [
    "data2.run(\"1234567\", ipyclient=ipyclient) #runs all steps\n",
    "data2.samples #lists the name of the filtered samples"
   ]
  },
  {
   "cell_type": "markdown",
   "metadata": {},
   "source": [
    "### Print the final assembly stats"
   ]
  },
  {
   "cell_type": "code",
   "execution_count": 22,
   "metadata": {},
   "outputs": [
    {
     "name": "stdout",
     "output_type": "stream",
     "text": [
      "      state  reads_raw  reads_passed_filter  clusters_total  clusters_hidepth  \\\n",
      "1A_0      5      19835                19835            1000              1000   \n",
      "1B_0      5      20071                20071            1000              1000   \n",
      "1C_0      5      19969                19969            1000              1000   \n",
      "1D_0      5      20082                20082            1000              1000   \n",
      "2E_0      5      20004                20004            1000              1000   \n",
      "2F_0      5      19899                19899            1000              1000   \n",
      "2G_0      5      19928                19928            1001              1000   \n",
      "2H_0      5      20110                20110            1000              1000   \n",
      "3I_0      5      20078                20078            1000              1000   \n",
      "3J_0      5      19965                19965            1000              1000   \n",
      "3K_0      5      19846                19846            1000              1000   \n",
      "3L_0      5      20025                20025            1000              1000   \n",
      "\n",
      "      hetero_est  error_est  reads_consens  \n",
      "1A_0    0.001861   0.000758           1000  \n",
      "1B_0    0.001953   0.000750           1000  \n",
      "1C_0    0.001917   0.000729           1000  \n",
      "1D_0    0.001831   0.000712           1000  \n",
      "2E_0    0.001883   0.000754           1000  \n",
      "2F_0    0.001953   0.000750           1000  \n",
      "2G_0    0.001889   0.000757           1000  \n",
      "2H_0    0.002088   0.000714           1000  \n",
      "3I_0    0.001947   0.000742           1000  \n",
      "3J_0    0.001846   0.000723           1000  \n",
      "3K_0    0.001975   0.000751           1000  \n",
      "3L_0    0.001981   0.000735           1000  \n"
     ]
    }
   ],
   "source": [
    "print data2.stats #prints the number of reads in each sample"
   ]
  },
  {
   "cell_type": "markdown",
   "metadata": {},
   "source": [
    "### Show the location of your assembled output files"
   ]
  },
  {
   "cell_type": "code",
   "execution_count": 25,
   "metadata": {},
   "outputs": [
    {
     "name": "stdout",
     "output_type": "stream",
     "text": [
      "data1_across\n",
      "data1_clust_0.85\n",
      "data1_consens\n",
      "data1_edits\n",
      "data1_fastqs\n",
      "data1.json\n",
      "data1_s1_demultiplex_stats.txt\n",
      "pairddrad_example_barcodes.txt\n",
      "pairddrad_example_genome.fa\n",
      "pairddrad_example_genome.fa.fai\n",
      "pairddrad_example_genome.fa.sma\n",
      "pairddrad_example_genome.fa.smi\n",
      "pairddrad_example_R1_.fastq.gz\n",
      "pairddrad_example_R2_.fastq.gz\n"
     ]
    }
   ],
   "source": [
    "%%bash \n",
    "cd /rigel/home/ngs2116/w4050/users/ngs2116/ipsimdata/pairddrad\n",
    "ls"
   ]
  }
 ],
 "metadata": {
  "kernelspec": {
   "display_name": "Python 2",
   "language": "python",
   "name": "python2"
  },
  "language_info": {
   "codemirror_mode": {
    "name": "ipython",
    "version": 2
   },
   "file_extension": ".py",
   "mimetype": "text/x-python",
   "name": "python",
   "nbconvert_exporter": "python",
   "pygments_lexer": "ipython2",
   "version": "2.7.14"
  }
 },
 "nbformat": 4,
 "nbformat_minor": 2
}
